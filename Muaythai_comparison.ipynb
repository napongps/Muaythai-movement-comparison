{
  "cells": [
    {
      "cell_type": "code",
      "execution_count": 1,
      "metadata": {
        "colab": {
          "base_uri": "https://localhost:8080/"
        },
        "id": "GuHqHTXvYryQ",
        "outputId": "9d182e67-0f1a-4786-adf6-d1f38aaad3ec"
      },
      "outputs": [
        {
          "output_type": "execute_result",
          "data": {
            "text/plain": [
              "True"
            ]
          },
          "metadata": {},
          "execution_count": 1
        }
      ],
      "source": [
        "def in_colab():\n",
        "    from IPython.core import getipython\n",
        "    return 'google.colab' in str(getipython.get_ipython())\n",
        "\n",
        "in_colab()"
      ]
    },
    {
      "cell_type": "code",
      "execution_count": 2,
      "metadata": {
        "colab": {
          "base_uri": "https://localhost:8080/"
        },
        "id": "NvlFR8h-ZGZ5",
        "outputId": "8760805f-9ad7-4f7d-ef6f-e8bd6dacdd58"
      },
      "outputs": [
        {
          "output_type": "stream",
          "name": "stdout",
          "text": [
            "Collecting mediapipe\n",
            "  Downloading mediapipe-0.10.11-cp310-cp310-manylinux_2_17_x86_64.manylinux2014_x86_64.whl (35.6 MB)\n",
            "\u001b[2K     \u001b[90m━━━━━━━━━━━━━━━━━━━━━━━━━━━━━━━━━━━━━━━━\u001b[0m \u001b[32m35.6/35.6 MB\u001b[0m \u001b[31m22.4 MB/s\u001b[0m eta \u001b[36m0:00:00\u001b[0m\n",
            "\u001b[?25hRequirement already satisfied: absl-py in /usr/local/lib/python3.10/dist-packages (from mediapipe) (1.4.0)\n",
            "Requirement already satisfied: attrs>=19.1.0 in /usr/local/lib/python3.10/dist-packages (from mediapipe) (23.2.0)\n",
            "Requirement already satisfied: flatbuffers>=2.0 in /usr/local/lib/python3.10/dist-packages (from mediapipe) (24.3.7)\n",
            "Requirement already satisfied: jax in /usr/local/lib/python3.10/dist-packages (from mediapipe) (0.4.23)\n",
            "Requirement already satisfied: jaxlib in /usr/local/lib/python3.10/dist-packages (from mediapipe) (0.4.23+cuda12.cudnn89)\n",
            "Requirement already satisfied: matplotlib in /usr/local/lib/python3.10/dist-packages (from mediapipe) (3.7.1)\n",
            "Requirement already satisfied: numpy in /usr/local/lib/python3.10/dist-packages (from mediapipe) (1.25.2)\n",
            "Requirement already satisfied: torch in /usr/local/lib/python3.10/dist-packages (from mediapipe) (2.2.1+cu121)\n",
            "Requirement already satisfied: opencv-contrib-python in /usr/local/lib/python3.10/dist-packages (from mediapipe) (4.8.0.76)\n",
            "Requirement already satisfied: protobuf<4,>=3.11 in /usr/local/lib/python3.10/dist-packages (from mediapipe) (3.20.3)\n",
            "Collecting sounddevice>=0.4.4 (from mediapipe)\n",
            "  Downloading sounddevice-0.4.6-py3-none-any.whl (31 kB)\n",
            "Requirement already satisfied: CFFI>=1.0 in /usr/local/lib/python3.10/dist-packages (from sounddevice>=0.4.4->mediapipe) (1.16.0)\n",
            "Requirement already satisfied: ml-dtypes>=0.2.0 in /usr/local/lib/python3.10/dist-packages (from jax->mediapipe) (0.2.0)\n",
            "Requirement already satisfied: opt-einsum in /usr/local/lib/python3.10/dist-packages (from jax->mediapipe) (3.3.0)\n",
            "Requirement already satisfied: scipy>=1.9 in /usr/local/lib/python3.10/dist-packages (from jax->mediapipe) (1.11.4)\n",
            "Requirement already satisfied: contourpy>=1.0.1 in /usr/local/lib/python3.10/dist-packages (from matplotlib->mediapipe) (1.2.0)\n",
            "Requirement already satisfied: cycler>=0.10 in /usr/local/lib/python3.10/dist-packages (from matplotlib->mediapipe) (0.12.1)\n",
            "Requirement already satisfied: fonttools>=4.22.0 in /usr/local/lib/python3.10/dist-packages (from matplotlib->mediapipe) (4.49.0)\n",
            "Requirement already satisfied: kiwisolver>=1.0.1 in /usr/local/lib/python3.10/dist-packages (from matplotlib->mediapipe) (1.4.5)\n",
            "Requirement already satisfied: packaging>=20.0 in /usr/local/lib/python3.10/dist-packages (from matplotlib->mediapipe) (24.0)\n",
            "Requirement already satisfied: pillow>=6.2.0 in /usr/local/lib/python3.10/dist-packages (from matplotlib->mediapipe) (9.4.0)\n",
            "Requirement already satisfied: pyparsing>=2.3.1 in /usr/local/lib/python3.10/dist-packages (from matplotlib->mediapipe) (3.1.2)\n",
            "Requirement already satisfied: python-dateutil>=2.7 in /usr/local/lib/python3.10/dist-packages (from matplotlib->mediapipe) (2.8.2)\n",
            "Requirement already satisfied: filelock in /usr/local/lib/python3.10/dist-packages (from torch->mediapipe) (3.13.1)\n",
            "Requirement already satisfied: typing-extensions>=4.8.0 in /usr/local/lib/python3.10/dist-packages (from torch->mediapipe) (4.10.0)\n",
            "Requirement already satisfied: sympy in /usr/local/lib/python3.10/dist-packages (from torch->mediapipe) (1.12)\n",
            "Requirement already satisfied: networkx in /usr/local/lib/python3.10/dist-packages (from torch->mediapipe) (3.2.1)\n",
            "Requirement already satisfied: jinja2 in /usr/local/lib/python3.10/dist-packages (from torch->mediapipe) (3.1.3)\n",
            "Requirement already satisfied: fsspec in /usr/local/lib/python3.10/dist-packages (from torch->mediapipe) (2023.6.0)\n",
            "Collecting nvidia-cuda-nvrtc-cu12==12.1.105 (from torch->mediapipe)\n",
            "  Downloading nvidia_cuda_nvrtc_cu12-12.1.105-py3-none-manylinux1_x86_64.whl (23.7 MB)\n",
            "\u001b[2K     \u001b[90m━━━━━━━━━━━━━━━━━━━━━━━━━━━━━━━━━━━━━━━━\u001b[0m \u001b[32m23.7/23.7 MB\u001b[0m \u001b[31m28.1 MB/s\u001b[0m eta \u001b[36m0:00:00\u001b[0m\n",
            "\u001b[?25hCollecting nvidia-cuda-runtime-cu12==12.1.105 (from torch->mediapipe)\n",
            "  Downloading nvidia_cuda_runtime_cu12-12.1.105-py3-none-manylinux1_x86_64.whl (823 kB)\n",
            "\u001b[2K     \u001b[90m━━━━━━━━━━━━━━━━━━━━━━━━━━━━━━━━━━━━━━━━\u001b[0m \u001b[32m823.6/823.6 kB\u001b[0m \u001b[31m32.1 MB/s\u001b[0m eta \u001b[36m0:00:00\u001b[0m\n",
            "\u001b[?25hCollecting nvidia-cuda-cupti-cu12==12.1.105 (from torch->mediapipe)\n",
            "  Downloading nvidia_cuda_cupti_cu12-12.1.105-py3-none-manylinux1_x86_64.whl (14.1 MB)\n",
            "\u001b[2K     \u001b[90m━━━━━━━━━━━━━━━━━━━━━━━━━━━━━━━━━━━━━━━━\u001b[0m \u001b[32m14.1/14.1 MB\u001b[0m \u001b[31m34.9 MB/s\u001b[0m eta \u001b[36m0:00:00\u001b[0m\n",
            "\u001b[?25hCollecting nvidia-cudnn-cu12==8.9.2.26 (from torch->mediapipe)\n",
            "  Downloading nvidia_cudnn_cu12-8.9.2.26-py3-none-manylinux1_x86_64.whl (731.7 MB)\n",
            "\u001b[2K     \u001b[90m━━━━━━━━━━━━━━━━━━━━━━━━━━━━━━━━━━━━━━━━\u001b[0m \u001b[32m731.7/731.7 MB\u001b[0m \u001b[31m1.1 MB/s\u001b[0m eta \u001b[36m0:00:00\u001b[0m\n",
            "\u001b[?25hCollecting nvidia-cublas-cu12==12.1.3.1 (from torch->mediapipe)\n",
            "  Downloading nvidia_cublas_cu12-12.1.3.1-py3-none-manylinux1_x86_64.whl (410.6 MB)\n",
            "\u001b[2K     \u001b[90m━━━━━━━━━━━━━━━━━━━━━━━━━━━━━━━━━━━━━━━━\u001b[0m \u001b[32m410.6/410.6 MB\u001b[0m \u001b[31m3.1 MB/s\u001b[0m eta \u001b[36m0:00:00\u001b[0m\n",
            "\u001b[?25hCollecting nvidia-cufft-cu12==11.0.2.54 (from torch->mediapipe)\n",
            "  Downloading nvidia_cufft_cu12-11.0.2.54-py3-none-manylinux1_x86_64.whl (121.6 MB)\n",
            "\u001b[2K     \u001b[90m━━━━━━━━━━━━━━━━━━━━━━━━━━━━━━━━━━━━━━━━\u001b[0m \u001b[32m121.6/121.6 MB\u001b[0m \u001b[31m8.5 MB/s\u001b[0m eta \u001b[36m0:00:00\u001b[0m\n",
            "\u001b[?25hCollecting nvidia-curand-cu12==10.3.2.106 (from torch->mediapipe)\n",
            "  Downloading nvidia_curand_cu12-10.3.2.106-py3-none-manylinux1_x86_64.whl (56.5 MB)\n",
            "\u001b[2K     \u001b[90m━━━━━━━━━━━━━━━━━━━━━━━━━━━━━━━━━━━━━━━━\u001b[0m \u001b[32m56.5/56.5 MB\u001b[0m \u001b[31m9.8 MB/s\u001b[0m eta \u001b[36m0:00:00\u001b[0m\n",
            "\u001b[?25hCollecting nvidia-cusolver-cu12==11.4.5.107 (from torch->mediapipe)\n",
            "  Downloading nvidia_cusolver_cu12-11.4.5.107-py3-none-manylinux1_x86_64.whl (124.2 MB)\n",
            "\u001b[2K     \u001b[90m━━━━━━━━━━━━━━━━━━━━━━━━━━━━━━━━━━━━━━━━\u001b[0m \u001b[32m124.2/124.2 MB\u001b[0m \u001b[31m7.7 MB/s\u001b[0m eta \u001b[36m0:00:00\u001b[0m\n",
            "\u001b[?25hCollecting nvidia-cusparse-cu12==12.1.0.106 (from torch->mediapipe)\n",
            "  Downloading nvidia_cusparse_cu12-12.1.0.106-py3-none-manylinux1_x86_64.whl (196.0 MB)\n",
            "\u001b[2K     \u001b[90m━━━━━━━━━━━━━━━━━━━━━━━━━━━━━━━━━━━━━━━━\u001b[0m \u001b[32m196.0/196.0 MB\u001b[0m \u001b[31m2.3 MB/s\u001b[0m eta \u001b[36m0:00:00\u001b[0m\n",
            "\u001b[?25hCollecting nvidia-nccl-cu12==2.19.3 (from torch->mediapipe)\n",
            "  Downloading nvidia_nccl_cu12-2.19.3-py3-none-manylinux1_x86_64.whl (166.0 MB)\n",
            "\u001b[2K     \u001b[90m━━━━━━━━━━━━━━━━━━━━━━━━━━━━━━━━━━━━━━━━\u001b[0m \u001b[32m166.0/166.0 MB\u001b[0m \u001b[31m6.2 MB/s\u001b[0m eta \u001b[36m0:00:00\u001b[0m\n",
            "\u001b[?25hCollecting nvidia-nvtx-cu12==12.1.105 (from torch->mediapipe)\n",
            "  Downloading nvidia_nvtx_cu12-12.1.105-py3-none-manylinux1_x86_64.whl (99 kB)\n",
            "\u001b[2K     \u001b[90m━━━━━━━━━━━━━━━━━━━━━━━━━━━━━━━━━━━━━━━━\u001b[0m \u001b[32m99.1/99.1 kB\u001b[0m \u001b[31m10.9 MB/s\u001b[0m eta \u001b[36m0:00:00\u001b[0m\n",
            "\u001b[?25hRequirement already satisfied: triton==2.2.0 in /usr/local/lib/python3.10/dist-packages (from torch->mediapipe) (2.2.0)\n",
            "Collecting nvidia-nvjitlink-cu12 (from nvidia-cusolver-cu12==11.4.5.107->torch->mediapipe)\n",
            "  Downloading nvidia_nvjitlink_cu12-12.4.99-py3-none-manylinux2014_x86_64.whl (21.1 MB)\n",
            "\u001b[2K     \u001b[90m━━━━━━━━━━━━━━━━━━━━━━━━━━━━━━━━━━━━━━━━\u001b[0m \u001b[32m21.1/21.1 MB\u001b[0m \u001b[31m50.3 MB/s\u001b[0m eta \u001b[36m0:00:00\u001b[0m\n",
            "\u001b[?25hRequirement already satisfied: pycparser in /usr/local/lib/python3.10/dist-packages (from CFFI>=1.0->sounddevice>=0.4.4->mediapipe) (2.21)\n",
            "Requirement already satisfied: six>=1.5 in /usr/local/lib/python3.10/dist-packages (from python-dateutil>=2.7->matplotlib->mediapipe) (1.16.0)\n",
            "Requirement already satisfied: MarkupSafe>=2.0 in /usr/local/lib/python3.10/dist-packages (from jinja2->torch->mediapipe) (2.1.5)\n",
            "Requirement already satisfied: mpmath>=0.19 in /usr/local/lib/python3.10/dist-packages (from sympy->torch->mediapipe) (1.3.0)\n",
            "Installing collected packages: nvidia-nvtx-cu12, nvidia-nvjitlink-cu12, nvidia-nccl-cu12, nvidia-curand-cu12, nvidia-cufft-cu12, nvidia-cuda-runtime-cu12, nvidia-cuda-nvrtc-cu12, nvidia-cuda-cupti-cu12, nvidia-cublas-cu12, sounddevice, nvidia-cusparse-cu12, nvidia-cudnn-cu12, nvidia-cusolver-cu12, mediapipe\n",
            "Successfully installed mediapipe-0.10.11 nvidia-cublas-cu12-12.1.3.1 nvidia-cuda-cupti-cu12-12.1.105 nvidia-cuda-nvrtc-cu12-12.1.105 nvidia-cuda-runtime-cu12-12.1.105 nvidia-cudnn-cu12-8.9.2.26 nvidia-cufft-cu12-11.0.2.54 nvidia-curand-cu12-10.3.2.106 nvidia-cusolver-cu12-11.4.5.107 nvidia-cusparse-cu12-12.1.0.106 nvidia-nccl-cu12-2.19.3 nvidia-nvjitlink-cu12-12.4.99 nvidia-nvtx-cu12-12.1.105 sounddevice-0.4.6\n",
            "Requirement already satisfied: opencv-python in /usr/local/lib/python3.10/dist-packages (4.8.0.76)\n",
            "Requirement already satisfied: numpy>=1.21.2 in /usr/local/lib/python3.10/dist-packages (from opencv-python) (1.25.2)\n",
            "Collecting pyshine\n",
            "  Downloading pyshine-0.0.9-py3-none-any.whl (7.4 kB)\n",
            "Requirement already satisfied: numpy in /usr/local/lib/python3.10/dist-packages (from pyshine) (1.25.2)\n",
            "Installing collected packages: pyshine\n",
            "Successfully installed pyshine-0.0.9\n",
            "Requirement already satisfied: plotly in /usr/local/lib/python3.10/dist-packages (5.15.0)\n",
            "Requirement already satisfied: tenacity>=6.2.0 in /usr/local/lib/python3.10/dist-packages (from plotly) (8.2.3)\n",
            "Requirement already satisfied: packaging in /usr/local/lib/python3.10/dist-packages (from plotly) (24.0)\n",
            "Collecting wget\n",
            "  Downloading wget-3.2.zip (10 kB)\n",
            "  Preparing metadata (setup.py) ... \u001b[?25l\u001b[?25hdone\n",
            "Building wheels for collected packages: wget\n",
            "  Building wheel for wget (setup.py) ... \u001b[?25l\u001b[?25hdone\n",
            "  Created wheel for wget: filename=wget-3.2-py3-none-any.whl size=9656 sha256=c03a749be4448347d671790d70c53d80049408190829b5e33874f4e6a78c5070\n",
            "  Stored in directory: /root/.cache/pip/wheels/8b/f1/7f/5c94f0a7a505ca1c81cd1d9208ae2064675d97582078e6c769\n",
            "Successfully built wget\n",
            "Installing collected packages: wget\n",
            "Successfully installed wget-3.2\n"
          ]
        }
      ],
      "source": [
        "if in_colab():\n",
        "    !pip install mediapipe\n",
        "    !pip install opencv-python\n",
        "    !pip install pyshine\n",
        "    !pip install plotly\n",
        "    !pip install wget\n",
        "else:\n",
        "    %autosave 60\n",
        "    %pip install --upgrade ipykernel"
      ]
    },
    {
      "cell_type": "code",
      "execution_count": 3,
      "metadata": {
        "id": "3bc9353LP4om",
        "colab": {
          "base_uri": "https://localhost:8080/"
        },
        "outputId": "4edf1bd5-d0cd-47c7-a8ef-37649d514f2a"
      },
      "outputs": [
        {
          "output_type": "stream",
          "name": "stdout",
          "text": [
            "Warning! PortAudio library not found\n",
            "Warning! No module named 'keras.layers.convolutional'\n"
          ]
        }
      ],
      "source": [
        "import os\n",
        "import math\n",
        "import cv2\n",
        "import numpy as np\n",
        "import mediapipe as mp\n",
        "import matplotlib.pyplot as plt\n",
        "import pandas as pd\n",
        "import pickle\n",
        "import pyshine as ps\n",
        "from glob import glob\n",
        "from copy import copy"
      ]
    },
    {
      "cell_type": "code",
      "execution_count": 4,
      "metadata": {
        "colab": {
          "base_uri": "https://localhost:8080/"
        },
        "id": "Dyji0InjP29r",
        "outputId": "2b69c2ac-a784-4f8b-c19b-a9768addd60c"
      },
      "outputs": [
        {
          "output_type": "stream",
          "name": "stdout",
          "text": [
            "Mounted at /content/drive\n"
          ]
        }
      ],
      "source": [
        "if in_colab():\n",
        "    from google.colab.patches import cv2_imshow\n",
        "    from google.colab import drive\n",
        "    drive.mount('/content/drive')\n",
        "\n",
        "    !mkdir Resources\n",
        "    !mkdir 'Resources/Video_เพื่อน'\n",
        "    !mkdir 'Resources/Different camera angle'\n",
        "\n",
        "    # Import file due to ram limitation\n",
        "    %cp -r '/content/drive/MyDrive/Resources/Video_เพื่อน/landmarks' ./\n",
        "    os.rename('landmarks', '/content/Resources/Video_เพื่อน/landmarks')\n",
        "    %cp -r '/content/drive/MyDrive/Resources/Different camera angle/landmarks' ./\n",
        "    os.rename('landmarks', '/content/Resources/Different camera angle/landmarks')\n",
        "    %cp -r '/content/drive/MyDrive/Resources/weight_config_angle_list.csv' ./\n",
        "    os.rename('/content/weight_config_angle_list.csv', '/content/Resources/weight_config_angle_list.csv')\n",
        "    %cp -r '/content/drive/MyDrive/Resources/weight_config_cosine_list.csv' ./\n",
        "    os.rename('/content/weight_config_cosine_list.csv', '/content/Resources/weight_config_cosine_list.csv')"
      ]
    },
    {
      "cell_type": "code",
      "execution_count": 5,
      "metadata": {
        "id": "LqDn8WkjQAZd",
        "colab": {
          "base_uri": "https://localhost:8080/"
        },
        "outputId": "1cc8c9aa-7ec2-4fe6-df58-150d79868ad7"
      },
      "outputs": [
        {
          "output_type": "stream",
          "name": "stdout",
          "text": [
            "Downloading model to /usr/local/lib/python3.10/dist-packages/mediapipe/modules/pose_landmark/pose_landmark_heavy.tflite\n"
          ]
        }
      ],
      "source": [
        "mp_pose = mp.solutions.pose\n",
        "\n",
        "pose_video = mp_pose.Pose(static_image_mode=False,\n",
        "                          min_detection_confidence=0.5, model_complexity=2)\n",
        "\n",
        "mp_drawing = mp.solutions.drawing_utils\n",
        "mp_drawing_styles = mp.solutions.drawing_styles"
      ]
    },
    {
      "cell_type": "code",
      "execution_count": 6,
      "metadata": {
        "id": "0ECpkbNPZcpI"
      },
      "outputs": [],
      "source": [
        "if in_colab():\n",
        "    resource = '/content/drive/MyDrive/Resources'\n",
        "    friends_video = resource+'/Video_เพื่อน'\n",
        "    diff_angle = resource+'/Different camera angle'\n",
        "    slash = '/'\n",
        "    desktop = '/content'\n",
        "else:\n",
        "    resource = f'C:\\\\Users\\\\{os.getlogin()}\\Desktop\\\\resource'\n",
        "    friends_video = f'C:\\\\Users\\\\{os.getlogin()}\\\\Desktop\\\\resource\\\\Video_เพื่อน'\n",
        "    diff_angle = f'C:\\\\Users\\\\{os.getlogin()}\\\\Desktop\\\\resource\\\\Different camera angle'\n",
        "    slash = '\\\\'\n",
        "    desktop = f'C:\\\\Users\\\\{os.getlogin()}\\Desktop'"
      ]
    },
    {
      "cell_type": "markdown",
      "metadata": {
        "id": "SaTKEdXjDvbR"
      },
      "source": [
        "# Landmark detection"
      ]
    },
    {
      "cell_type": "code",
      "execution_count": 7,
      "metadata": {
        "id": "xjW8XJLyQLM0"
      },
      "outputs": [],
      "source": [
        "def detectPose(frame: np.array):\n",
        "    \"\"\"\n",
        "    Input:\n",
        "        frame = numpy array of frame that is extracted by cv2\n",
        "\n",
        "    Output:\n",
        "        output_image = image that has skeleton in that frame\n",
        "        norm_landmarks = camera coordinate every keypoint in that frame\n",
        "        norm_world_landmarks = world coordinate every keypoint in that frame\n",
        "    \"\"\"\n",
        "\n",
        "    output_image = frame.copy()\n",
        "    output_image.flags.writeable = False\n",
        "    result = pose_video.process(output_image)\n",
        "\n",
        "    output_image.flags.writeable = True\n",
        "    if result.pose_landmarks:\n",
        "        norm_landmarks = result.pose_landmarks.landmark  # camera coordinate\n",
        "        norm_world_landmarks = result.pose_world_landmarks.landmark  # world coordinate\n",
        "\n",
        "        # เอา landmark ที่ไม่ได้ใช้ออก ใบหน้า นิ้วต่างๆ\n",
        "        exclude_lndmk = list(range(11))\n",
        "        exclude_lndmk.extend([29, 30, 17, 18, 21, 22])\n",
        "\n",
        "        for i in exclude_lndmk:\n",
        "            norm_landmarks[i].visibility = 0\n",
        "\n",
        "        mp_drawing.draw_landmarks(image=output_image,\n",
        "                                  landmark_list=result.pose_landmarks,\n",
        "                                  connections=mp_pose.POSE_CONNECTIONS,\n",
        "                                  landmark_drawing_spec=mp_drawing_styles.get_default_pose_landmarks_style())\n",
        "\n",
        "    return output_image, norm_landmarks, norm_world_landmarks"
      ]
    },
    {
      "cell_type": "code",
      "execution_count": 8,
      "metadata": {
        "id": "FEHtKw71yn5D"
      },
      "outputs": [],
      "source": [
        "def formatJoint(landmarks_obj: list):\n",
        "    \"\"\"\n",
        "    Input:\n",
        "        landmarks_obj = result landmarks that get from mediapipe\n",
        "\n",
        "    Output:\n",
        "        list of x,z,y coordinate for every keypoint eg. [[x1, y1, z1], [x2, y1, z1], ..., [x33, y33, z33]]\n",
        "    \"\"\"\n",
        "\n",
        "    return list(map(lambda ladk: [ladk.x, ladk.y, ladk.z], landmarks_obj))"
      ]
    },
    {
      "cell_type": "code",
      "execution_count": 9,
      "metadata": {
        "id": "WOWH6TpsR8bK"
      },
      "outputs": [],
      "source": [
        "def landmark_detection(path_vid: str):\n",
        "    \"\"\"\n",
        "    Input:\n",
        "        path_vid = path of video\n",
        "\n",
        "    Output:\n",
        "        cam_ladk = numpy array that contain camera coordinate of all keypoint in every frame of the video\n",
        "        world_ladk = numpy array that contain world coordinate of all keypoint in every frame of the video\n",
        "        all_frame = list that contain all skeletal frame in the video\n",
        "    \"\"\"\n",
        "\n",
        "    video = cv2.VideoCapture(path_vid)\n",
        "\n",
        "    all_frame = []\n",
        "    cam_ladk = []\n",
        "    world_ladk = []\n",
        "    count = 0\n",
        "\n",
        "    while video.isOpened():\n",
        "\n",
        "        ret, frame = video.read()\n",
        "\n",
        "        if not ret:\n",
        "            break\n",
        "\n",
        "        # กรณีที่ mediapipe ไม่สามารถหา landmark ได้ detectPose จะเป็น Nonetype\n",
        "        try:\n",
        "            output_image, norm_landmarks, norm_world_landmarks = detectPose(\n",
        "                frame)\n",
        "        except:\n",
        "            continue\n",
        "\n",
        "        output_image = ps.putBText(output_image, \"Frame: {}\".format(count),\n",
        "                                   text_offset_x=50, text_offset_y=50, vspace=10, hspace=10,\n",
        "                                   font_scale=1, background_RGB=(0, 0, 0), text_RGB=(255, 250, 250))\n",
        "\n",
        "        all_frame.append(output_image)\n",
        "        cam_ladk.append(formatJoint(norm_landmarks))\n",
        "        world_ladk.append(formatJoint(norm_world_landmarks))\n",
        "\n",
        "        count += 1\n",
        "\n",
        "    video.release()\n",
        "    cv2.destroyAllWindows()\n",
        "    return np.array(cam_ladk), np.array(world_ladk), all_frame"
      ]
    },
    {
      "cell_type": "markdown",
      "metadata": {
        "id": "v_xNouYRD2TY"
      },
      "source": [
        "# Export files"
      ]
    },
    {
      "cell_type": "code",
      "execution_count": 10,
      "metadata": {
        "id": "UIG39vbb9XzZ"
      },
      "outputs": [],
      "source": [
        "def export_ladk(path_des: str):\n",
        "    \"\"\"\n",
        "    Input:\n",
        "        path_des = A path of folder that contains videos\n",
        "    \"\"\"\n",
        "    ladk_dir = f\"{desktop}{slash}landmarks_diff_angle\"\n",
        "    !rm -rf \"{ladk_dir}\n",
        "    !mkdir \"{ladk_dir}\"\n",
        "    vid_list = glob(path_des+'/**/*.mp4')+glob(path_des+'/**/*.MOV')\n",
        "\n",
        "    for vid in vid_list:\n",
        "        movement_name = vid.split(slash)[-2]\n",
        "        vid_name = vid.split(slash)[-1].replace('.mp4','').replace('.MOV','')\n",
        "\n",
        "        if not os.path.isdir(f\"{ladk_dir}/{movement_name}\"):\n",
        "            !mkdir \"{ladk_dir}{slash}{movement_name}\"\n",
        "\n",
        "        !mkdir \"{ladk_dir}{slash}{movement_name}{slash}{vid_name}\"\n",
        "\n",
        "        cam_ladk, world_ladk, all_frame = landmark_detection(vid)\n",
        "\n",
        "        dir = f'{ladk_dir}{slash}{movement_name}{slash}{vid_name}'\n",
        "        with open(f\"{dir}{slash}cam_{vid_name}\", \"wb\") as fp:\n",
        "            np.save(fp, cam_ladk)\n",
        "        with open(f\"{dir}{slash}world_{vid_name}\", \"wb\") as fp:\n",
        "            np.save(fp, world_ladk)\n",
        "        with open(f\"{dir}{slash}all_frame_{vid_name}\", \"wb\") as fp:\n",
        "            pickle.dump(all_frame, fp)\n",
        "\n",
        "    # if os.path.isdir(\"{}/landmarks\".format(path_des)):\n",
        "    #     !rm -rf \"{path_des}/landmarks\"\n",
        "\n",
        "    # !rsync -a -q \"/content/landmarks\" \"{path_des}\""
      ]
    },
    {
      "cell_type": "markdown",
      "metadata": {
        "id": "bKY4x4YaD4Vo"
      },
      "source": [
        "# Import files"
      ]
    },
    {
      "cell_type": "code",
      "execution_count": 13,
      "metadata": {
        "id": "VhgH6fJaDKy-"
      },
      "outputs": [],
      "source": [
        "def import_file(path: str):\n",
        "    \"\"\"\n",
        "    Input:\n",
        "        path = path of video landmark\n",
        "\n",
        "    Output:\n",
        "        cam_ladk = numpy array that contain camera coordinate of all keypoint in every frame of the video\n",
        "        world_ladk = numpy array that contain world coordinate of all keypoint in every frame of the video\n",
        "        all_frame = list that contain all skeletal frame in the video\n",
        "    \"\"\"\n",
        "\n",
        "    vid_name = path.split(slash)[-1]\n",
        "    with open('{}{}cam_{}'.format(path, slash, vid_name), 'rb') as f:\n",
        "        cam_ladk = np.load(f, allow_pickle=True)\n",
        "    with open('{}{}world_{}'.format(path, slash, vid_name), 'rb') as f:\n",
        "        world_ladk = np.load(f, allow_pickle=True)\n",
        "    with open(\"{}{}all_frame_{}\".format(path, slash, vid_name), \"rb\") as fp:\n",
        "        all_frame = pickle.load(fp)\n",
        "\n",
        "    return cam_ladk, world_ladk, all_frame"
      ]
    },
    {
      "cell_type": "code",
      "source": [
        "_,_,frame1 = import_file('/content/drive/MyDrive/Resources/Video_เพื่อน/landmarks/เตะเฉียงหน้า/เตะเฉียงหน้า')\n",
        "_,_,frame2 = import_file('/content/drive/MyDrive/Resources/Video_เพื่อน/landmarks/เตะเฉียงหน้า/เตะเฉียงหน้า_6')"
      ],
      "metadata": {
        "id": "cTGrGtKRZ3-n"
      },
      "execution_count": 14,
      "outputs": []
    },
    {
      "cell_type": "markdown",
      "metadata": {
        "id": "7rnxPgR2jemf"
      },
      "source": [
        "# Import weight"
      ]
    },
    {
      "cell_type": "code",
      "execution_count": 15,
      "metadata": {
        "id": "eLbodxovjgfI"
      },
      "outputs": [],
      "source": [
        "def gen_weight_csv(similarity_function):\n",
        "\n",
        "    if \"angle\" in similarity_function.__name__.lower():\n",
        "\n",
        "        cols = ['r_wrist', 'r_elbow', 'r_shoulder', 'r_hip', 'r_knee', 'r_ankle',\n",
        "                'l_wrist', 'l_elbow', 'l_shoulder', 'l_hip', 'l_knee', 'l_ankle']\n",
        "\n",
        "    elif \"cosine\" in similarity_function.__name__.lower():\n",
        "\n",
        "        cols = ['R_findex_ankle', 'R_ankle_knee', 'R_knee_hip', 'R_hip_shoulder', 'R_index_wrist', 'R_wrist_elbow', 'R_elbow_shoulder',\n",
        "                'L_findex_ankle', 'L_ankle_knee', 'L_knee_hip', 'L_hip_shoulder', 'L_index_wrist', 'L_wrist_elbow', 'L_elbow_shoulder',\n",
        "                'lshoulder_rshoulder', 'lhip_rhip']\n",
        "    weight_dict = dict.fromkeys(cols, 1)\n",
        "\n",
        "    path = f'C:\\\\Users\\\\{os.getlogin()}\\Desktop\\\\resource\\\\weight_config_{}.csv'\n",
        "\n",
        "    if in_colab():\n",
        "        path = 'weight_config_{}.csv'\n",
        "\n",
        "    pd.DataFrame(weight_dict, index=[0]).to_csv(\n",
        "        path.format(similarity_function.__name__.lower()))"
      ]
    },
    {
      "cell_type": "code",
      "execution_count": 16,
      "metadata": {
        "id": "dmfv9tT0jq4V"
      },
      "outputs": [],
      "source": [
        "def import_weight(weight_csv: str, vid_name: str):\n",
        "    df = pd.read_csv(weight_csv, encoding='utf-8')\n",
        "    return df[df['Name'] == vid_name].to_numpy()[0][1:]"
      ]
    },
    {
      "cell_type": "markdown",
      "metadata": {
        "id": "4HixSITnD-Zy"
      },
      "source": [
        "# Comparison methods"
      ]
    },
    {
      "cell_type": "markdown",
      "metadata": {
        "id": "-i-YrmtmB7Yi"
      },
      "source": [
        "## Mapping score function"
      ]
    },
    {
      "cell_type": "code",
      "execution_count": 17,
      "metadata": {
        "colab": {
          "base_uri": "https://localhost:8080/",
          "height": 522
        },
        "id": "wT3ACDqOtyPc",
        "outputId": "0e9aad15-544d-4d1d-c258-86caf233a33c"
      },
      "outputs": [
        {
          "output_type": "display_data",
          "data": {
            "text/plain": [
              "<Figure size 600x600 with 1 Axes>"
            ],
            "image/png": "[encoded data removed]"
          },
          "metadata": {}
        }
      ],
      "source": [
        "import numpy as np\n",
        "import matplotlib.pyplot as plt\n",
        "\n",
        "x = np.linspace(-1.5, 1.5, 100)\n",
        "y = np.where((x >= 0) & (x <= 1), 1/(1+(x/(1-x))**-2), x)\n",
        "\n",
        "plt.figure(figsize=(6, 6))\n",
        "plt.plot(x, y)\n",
        "plt.grid()\n",
        "plt.show()"
      ]
    },
    {
      "cell_type": "markdown",
      "metadata": {
        "id": "eRwexVTfFCeC"
      },
      "source": [
        "## Angle"
      ]
    },
    {
      "cell_type": "markdown",
      "metadata": {
        "id": "YV3ehib4FGtJ"
      },
      "source": [
        "### Extract function"
      ]
    },
    {
      "cell_type": "code",
      "execution_count": 18,
      "metadata": {
        "id": "jugpMNqMTbkK"
      },
      "outputs": [],
      "source": [
        "def cal_norm_vec(point1: np.array, point2: np.array):\n",
        "\n",
        "    vec = point2-point1\n",
        "    vec_mag = np.linalg.norm(vec, axis=1)\n",
        "    vec_norm = np.array(list(map((lambda x, y: x/y), vec, vec_mag)))\n",
        "\n",
        "    return vec_norm"
      ]
    },
    {
      "cell_type": "code",
      "execution_count": 19,
      "metadata": {
        "id": "kUzybxODGR9y"
      },
      "outputs": [],
      "source": [
        "def cal_local_angle(point1: np.array, point2: np.array, point3: np.array):\n",
        "\n",
        "    dot_result = np.sum(cal_norm_vec(point1, point2) *\n",
        "                        cal_norm_vec(point3, point2), axis=1)\n",
        "    angle = np.rad2deg(np.arccos(dot_result))\n",
        "\n",
        "    return angle"
      ]
    },
    {
      "cell_type": "code",
      "execution_count": 20,
      "metadata": {
        "id": "lR9DNP_rGP7L"
      },
      "outputs": [],
      "source": [
        "def find_angle(world_ladk_vid: np.array):\n",
        "\n",
        "    r_wrist = cal_local_angle(\n",
        "        world_ladk_vid[:, 20], world_ladk_vid[:, 16], world_ladk_vid[:, 14])\n",
        "    r_elbow = cal_local_angle(\n",
        "        world_ladk_vid[:, 16], world_ladk_vid[:, 14], world_ladk_vid[:, 12])\n",
        "    r_shoulder = cal_local_angle(\n",
        "        world_ladk_vid[:, 14], world_ladk_vid[:, 12], world_ladk_vid[:, 24])\n",
        "    r_hip = cal_local_angle(\n",
        "        world_ladk_vid[:, 12], world_ladk_vid[:, 24], world_ladk_vid[:, 26])\n",
        "    r_knee = cal_local_angle(\n",
        "        world_ladk_vid[:, 24], world_ladk_vid[:, 26], world_ladk_vid[:, 28])\n",
        "    r_ankle = cal_local_angle(\n",
        "        world_ladk_vid[:, 26], world_ladk_vid[:, 28], world_ladk_vid[:, 32])\n",
        "\n",
        "    l_wrist = cal_local_angle(\n",
        "        world_ladk_vid[:, 19], world_ladk_vid[:, 15], world_ladk_vid[:, 13])\n",
        "    l_elbow = cal_local_angle(\n",
        "        world_ladk_vid[:, 15], world_ladk_vid[:, 13], world_ladk_vid[:, 11])\n",
        "    l_shoulder = cal_local_angle(\n",
        "        world_ladk_vid[:, 13], world_ladk_vid[:, 11], world_ladk_vid[:, 23])\n",
        "    l_hip = cal_local_angle(\n",
        "        world_ladk_vid[:, 11], world_ladk_vid[:, 23], world_ladk_vid[:, 25])\n",
        "    l_knee = cal_local_angle(\n",
        "        world_ladk_vid[:, 23], world_ladk_vid[:, 25], world_ladk_vid[:, 27])\n",
        "    l_ankle = cal_local_angle(\n",
        "        world_ladk_vid[:, 25], world_ladk_vid[:, 27], world_ladk_vid[:, 31])\n",
        "\n",
        "    return np.array([r_wrist, r_elbow, r_shoulder, r_hip, r_knee, r_ankle,\n",
        "                    l_wrist, l_elbow, l_shoulder, l_hip, l_knee, l_ankle]).T"
      ]
    },
    {
      "cell_type": "markdown",
      "metadata": {
        "id": "nhaYkQB4iZi4"
      },
      "source": [
        "### Similarity"
      ]
    },
    {
      "cell_type": "code",
      "execution_count": 21,
      "metadata": {
        "id": "vsJLXu5ziZNZ"
      },
      "outputs": [],
      "source": [
        "def angle_similarity(ang1: np.array, ang2: np.array, weight: np.array, max_angle: int, expo: bool):\n",
        "    \"\"\"\n",
        "    คำนวณความเหมือนกันของมุมในแต่ละข้อพับระหว่าง 2 วิดิโอ (0 - max_angle)\n",
        "\n",
        "    input:\n",
        "        ang1 : มุมข้อพับทั้ง 12 มุมของวิดิโอที่ 1 ได้จาก find_angle\n",
        "        ang2 : มุมข้อพับทั้ง 12 มุมของวิดิโอที่ 2 ได้จาก find_angle\n",
        "        weight : ค่าถ่วงน้ำหนัก ที่ได้จากฟังก์ชัน gen_weight\n",
        "        max_angle : ค่าที่ใช้ในการ normalize แต่ละมุมข้อพับ\n",
        "\n",
        "    output:\n",
        "        numpy array ความเหมือนของมุมข้อพับ 12 มุมที่คูณกับค่าถ่วงน้ำหนักแล้ว มีช่วงตั้งแต่ 0 - 1\n",
        "    \"\"\"\n",
        "\n",
        "    joint_diff_norm = (max_angle-np.abs(ang1 - ang2)) / max_angle\n",
        "\n",
        "    if not expo:\n",
        "        return joint_diff_norm * weight\n",
        "    else:\n",
        "        joint_diff_expo = np.where((joint_diff_norm >= 0) & (\n",
        "            joint_diff_norm <= 1), 1/(1+(joint_diff_norm/(1-joint_diff_norm))**-2), joint_diff_norm)\n",
        "        # each angle has range between 0 and 1 (default weight)\n",
        "        return joint_diff_expo * weight"
      ]
    },
    {
      "cell_type": "markdown",
      "metadata": {
        "id": "3JL-KMRI853S"
      },
      "source": [
        "###Difference"
      ]
    },
    {
      "cell_type": "code",
      "execution_count": 22,
      "metadata": {
        "id": "oKp9bT6vSPFd"
      },
      "outputs": [],
      "source": [
        "def angle_difference(ang1: np.array, ang2: np.array, weight: np.array, max_angle: int, expo: bool):\n",
        "    \"\"\"\n",
        "    คำนวณความต่างของมุมในแต่ละข้อพับระหว่าง 2 วิดิโอ (0 - max_angle)\n",
        "\n",
        "    input:\n",
        "        ang1 : มุมข้อพับทั้ง 12 มุมของวิดิโอที่ 1 ได้จาก find_angle\n",
        "        ang2 : มุมข้อพับทั้ง 12 มุมของวิดิโอที่ 2 ได้จาก find_angle\n",
        "        weight : ค่าถ่วงน้ำหนัก ที่ได้จากฟังก์ชัน gen_weight\n",
        "        max_angle : ค่าที่ใช้ในการ normalize แต่ละมุมข้อพับ\n",
        "\n",
        "    output:\n",
        "        numpy array ความต่างของมุมข้อพับ 12 มุมที่คูณกับค่าถ่วงน้ำหนักแล้ว มีช่วงตั้งแต่ 0 - 1\n",
        "    \"\"\"\n",
        "\n",
        "    joint_diff_norm = (np.abs(ang1 - ang2) / max_angle)\n",
        "\n",
        "    if not expo:\n",
        "        return joint_diff_norm * weight\n",
        "    else:\n",
        "        joint_diff_expo = np.where((joint_diff_norm >= 0) & (\n",
        "            joint_diff_norm <= 1), 1/(1+(joint_diff_norm/(1-joint_diff_norm))**-2), joint_diff_norm)\n",
        "        # each angle has range between 0 and 1 (default weight)\n",
        "        return joint_diff_expo * weight"
      ]
    },
    {
      "cell_type": "markdown",
      "metadata": {
        "id": "x1ID5s1FEBN6"
      },
      "source": [
        "## Cosine"
      ]
    },
    {
      "cell_type": "markdown",
      "metadata": {
        "id": "3qFfosifSej_"
      },
      "source": [
        "### Extract function"
      ]
    },
    {
      "cell_type": "code",
      "execution_count": 23,
      "metadata": {
        "id": "ypgbW6zeSeVq"
      },
      "outputs": [],
      "source": [
        "def find_limb(world_ladk_vid: np.array):\n",
        "    \"\"\"\n",
        "    Output:\n",
        "        result[limb][frame][coordinate]\n",
        "    \"\"\"\n",
        "\n",
        "    R_findex_ankle = world_ladk_vid[:, 32] - world_ladk_vid[:, 28]\n",
        "    R_ankle_knee = world_ladk_vid[:, 28] - world_ladk_vid[:, 26]\n",
        "    R_knee_hip = world_ladk_vid[:, 26] - world_ladk_vid[:, 24]\n",
        "    R_hip_shoulder = world_ladk_vid[:, 24] - world_ladk_vid[:, 12]\n",
        "    R_index_wrist = world_ladk_vid[:, 20] - world_ladk_vid[:, 16]\n",
        "    R_wrist_elbow = world_ladk_vid[:, 16] - world_ladk_vid[:, 14]\n",
        "    R_elbow_shoulder = world_ladk_vid[:, 14] - world_ladk_vid[:, 12]\n",
        "\n",
        "    L_findex_ankle = world_ladk_vid[:, 31] - world_ladk_vid[:, 27]\n",
        "    L_ankle_knee = world_ladk_vid[:, 27] - world_ladk_vid[:, 25]\n",
        "    L_knee_hip = world_ladk_vid[:, 25] - world_ladk_vid[:, 23]\n",
        "    L_hip_shoulder = world_ladk_vid[:, 23] - world_ladk_vid[:, 11]\n",
        "    L_index_wrist = world_ladk_vid[:, 19] - world_ladk_vid[:, 15]\n",
        "    L_wrist_elbow = world_ladk_vid[:, 15] - world_ladk_vid[:, 13]\n",
        "    L_elbow_shoulder = world_ladk_vid[:, 13] - world_ladk_vid[:, 11]\n",
        "\n",
        "    lshoulder_rshoulder = world_ladk_vid[:, 11] - world_ladk_vid[:, 12]\n",
        "    lhip_rhip = world_ladk_vid[:, 23] - world_ladk_vid[:, 24]\n",
        "\n",
        "    return np.array([R_findex_ankle, R_ankle_knee, R_knee_hip, R_hip_shoulder, R_index_wrist, R_wrist_elbow, R_elbow_shoulder,\n",
        "                     L_findex_ankle, L_ankle_knee, L_knee_hip, L_hip_shoulder, L_index_wrist, L_wrist_elbow, L_elbow_shoulder,\n",
        "                     lshoulder_rshoulder, lhip_rhip]).transpose(1, 0, 2)"
      ]
    },
    {
      "cell_type": "markdown",
      "metadata": {
        "id": "3EosB8GBXkeG"
      },
      "source": [
        "### Similarity"
      ]
    },
    {
      "cell_type": "code",
      "execution_count": 24,
      "metadata": {
        "id": "igBgrCqmT9O8"
      },
      "outputs": [],
      "source": [
        "def cosine_similarity(vec1: np.array, vec2: np.array, weight: np.array, min_cosine_sim: int, expo: bool):\n",
        "    \"\"\"\n",
        "    คำนวณความเหมือนด้วย cosine similarity (min_cosine_sim - 1)\n",
        "    K(X, Y) = X dot Y / (||X||*||Y||)\n",
        "\n",
        "    input:\n",
        "        vec1: numpy array ที่ข้างในมีเวกเตอร์ท่อนแขนท่อนขา 16 ท่อนของวิดิโอที่ 1 ได้จากฟังก์ชัน find_limb\n",
        "        vec2: numpy array ที่ข้างในมีเวกเตอร์ท่อนแขนท่อนขา 16 ท่อนของวิดิโอที่ 2 ได้จากฟังก์ชัน find_limb\n",
        "        weight : ค่าถ่วงน้ำหนัก ที่ได้จากฟังก์ชัน gen_weight\n",
        "        min_cosine_sim: ค่าที่ใช้การ normalize แต่ละท่อนแขนท่อนขา รับเข้ามาเป็นองศา\n",
        "\n",
        "    output:\n",
        "         numpy array ความเหมือนของเวกเตอร์ 16 ท่อนที่คูณกับค่าถ่วงน้ำหนักแล้ว มีช่วงตั้งแต่ 0 - 1\n",
        "    \"\"\"\n",
        "    # 180 คือ -1, 90 คือ 0, 45 คือ sqrt(2)/2\n",
        "    min_cosine_sim = np.cos(np.radians(min_cosine_sim))\n",
        "\n",
        "    limb_diff_norm = (((np.sum(vec1*vec2, axis=1)/(np.linalg.norm(vec1, axis=1)\n",
        "                      * np.linalg.norm(vec2, axis=1)))-min_cosine_sim)/(1-min_cosine_sim))\n",
        "\n",
        "    if not expo:\n",
        "        return limb_diff_norm * weight\n",
        "    else:\n",
        "        limb_diff_expo = np.where((limb_diff_norm >= 0) & (\n",
        "            limb_diff_norm <= 1), 1/(1+(limb_diff_norm/(1-limb_diff_norm))**-2), limb_diff_norm)\n",
        "        # each limb has range between 0 and 1 (default weight)\n",
        "        return limb_diff_expo * weight"
      ]
    },
    {
      "cell_type": "markdown",
      "metadata": {
        "id": "9tJr-aSvZTwl"
      },
      "source": [
        "### Difference"
      ]
    },
    {
      "cell_type": "code",
      "execution_count": 25,
      "metadata": {
        "id": "vBIfHLRMZFe_"
      },
      "outputs": [],
      "source": [
        "def cosine_difference(vec1: np.array, vec2: np.array, weight: np.array, max_cosine_diff: int, expo: bool):\n",
        "    \"\"\"\n",
        "    คำนวณความต่างด้วย 1 - cosine similarity (0 - max_cosine_diff)\n",
        "\n",
        "    input:\n",
        "        vec1: numpy array ที่ข้างในมีเวกเตอร์ท่อนแขนท่อนขา 16 ท่อนของวิดิโอที่ 1 ได้จากฟังก์ชัน find_limb\n",
        "        vec2: numpy array ที่ข้างในมีเวกเตอร์ท่อนแขนท่อนขา 16 ท่อนของวิดิโอที่ 2 ได้จากฟังก์ชัน find_limb\n",
        "        max_cosine_diff: ค่าที่ใช้การ normalize แต่ละท่อนแขนท่อนขา\n",
        "        weight : ค่าถ่วงน้ำหนัก ที่ได้จากฟังก์ชัน gen_weight\n",
        "\n",
        "    output:\n",
        "        numpy array ความต่างของเวกเตอร์ 16 ท่อนที่คูณกับค่าถ่วงน้ำหนักแล้ว มีช่วงตั้งแต่ 0 - 1\n",
        "    \"\"\"\n",
        "\n",
        "    # 180 คือ -1, 90 คือ 0, 45 คือ sqrt(2)/2\n",
        "    max_cosine_diff = np.cos(np.radians(max_cosine_diff))\n",
        "\n",
        "    limb_diff_norm = (1 - (np.sum(vec1*vec2, axis=1)/(np.linalg.norm(vec1,axis=1)*np.linalg.norm(vec2, axis=1))))/(1-max_cosine_diff)\n",
        "\n",
        "    if not expo:\n",
        "        return limb_diff_norm * weight\n",
        "    else:\n",
        "        limb_diff_expo = np.where((limb_diff_norm >= 0) & (\n",
        "            limb_diff_norm <= 1), 1/(1+(limb_diff_norm/(1-limb_diff_norm))**-2), limb_diff_norm)\n",
        "        # each limb has range between 0 and 1 (default weight)\n",
        "        return limb_diff_expo * weight"
      ]
    },
    {
      "cell_type": "markdown",
      "metadata": {
        "id": "yIibTFM4dYM9"
      },
      "source": [
        "# Automatic weight"
      ]
    },
    {
      "cell_type": "code",
      "execution_count": 26,
      "metadata": {
        "id": "hadjFtu3dfHI"
      },
      "outputs": [],
      "source": [
        "def diff_move(extracted_ladk: np.array, windows: int, curr_frame: int, max_angle: int, method='aj'):\n",
        "\n",
        "    if method.lower() == 'aj':\n",
        "        if extracted_ladk.shape[1] == 12:\n",
        "            adj_diff = angle_difference(ang1=extracted_ladk[curr_frame],\n",
        "                                        ang2=extracted_ladk[curr_frame-1],\n",
        "                                        weight=np.ones(12),\n",
        "                                        max_angle=max_angle,\n",
        "                                        expo=False)\n",
        "\n",
        "        if extracted_ladk.shape[1] == 16:\n",
        "            adj_diff = cosine_difference(vec1=extracted_ladk[curr_frame],\n",
        "                                         vec2=extracted_ladk[curr_frame-1],\n",
        "                                         weight=np.ones(16),\n",
        "                                         max_cosine_diff=max_angle,\n",
        "                                         expo=False)\n",
        "\n",
        "        return adj_diff\n",
        "\n",
        "    elif method.lower() == 'me':\n",
        "        if extracted_ladk.shape[1] == 12:\n",
        "            prev_diff = np.abs(\n",
        "                extracted_ladk[curr_frame] - extracted_ladk[curr_frame-windows:curr_frame])/max_angle\n",
        "            next_diff = np.abs(\n",
        "                extracted_ladk[curr_frame] - extracted_ladk[curr_frame+1:curr_frame+windows+1])/max_angle\n",
        "\n",
        "            total_diff = np.append(prev_diff, next_diff, axis=0)\n",
        "            mean_total_diff = np.mean(total_diff, axis=0)\n",
        "\n",
        "        if extracted_ladk.shape[1] == 16:\n",
        "            max_cosine_diff = np.cos(np.radians(max_angle))\n",
        "            prev_diff = (1 - (np.sum(extracted_ladk[curr_frame][np.newaxis, :] * extracted_ladk[curr_frame-windows:curr_frame], axis=2) / (np.linalg.norm(\n",
        "                extracted_ladk[curr_frame][np.newaxis, :], axis=2) * np.linalg.norm(extracted_ladk[curr_frame-windows:curr_frame], axis=2))))/(1-max_cosine_diff)\n",
        "            next_diff = (1 - (np.sum(extracted_ladk[curr_frame][np.newaxis, :] * extracted_ladk[curr_frame+1:curr_frame+windows+1], axis=2) / (np.linalg.norm(\n",
        "                extracted_ladk[curr_frame][np.newaxis, :], axis=2) * np.linalg.norm(extracted_ladk[curr_frame+1:curr_frame+windows+1], axis=2))))/(1-max_cosine_diff)\n",
        "\n",
        "            mean_total_diff_temp = np.stack((prev_diff.T, next_diff.T), axis=1)\n",
        "\n",
        "            mean_total_diff = np.mean(\n",
        "                np.mean(mean_total_diff_temp, axis=1), axis=1)\n",
        "\n",
        "        return mean_total_diff+1"
      ]
    },
    {
      "cell_type": "code",
      "execution_count": 27,
      "metadata": {
        "id": "cUvZvTlbS2qH"
      },
      "outputs": [],
      "source": [
        "def MA_W(extracted_ladk: np.array, windows: int, max_angle=180, method='aj'):\n",
        "\n",
        "    frame = extracted_ladk.shape[0]\n",
        "\n",
        "    if (windows+windows) > frame:\n",
        "        frame_diff = (windows+windows) - frame\n",
        "        extracted_ladk = np.insert(\n",
        "            extracted_ladk, 0, [extracted_ladk[0]]*(math.ceil(frame_diff/2)+1), axis=0)\n",
        "        extracted_ladk = np.insert(\n",
        "            extracted_ladk, -1, [extracted_ladk[-1]]*(math.ceil(frame_diff/2)+1), axis=0)\n",
        "        frame = extracted_ladk.shape[0]\n",
        "\n",
        "    # adjacent frame diff\n",
        "    if method.lower() == 'aj':\n",
        "\n",
        "        all_adj_diff = []\n",
        "        for curr_frame in range(1, frame):\n",
        "            all_adj_diff.append(diff_move(extracted_ladk=extracted_ladk,\n",
        "                                          windows=windows,\n",
        "                                          curr_frame=curr_frame,\n",
        "                                          max_angle=max_angle,\n",
        "                                          method=method.lower()))\n",
        "\n",
        "        all_adj_diff.append(all_adj_diff[-1])\n",
        "        all_adj_diff = np.array(all_adj_diff)\n",
        "\n",
        "        # sliding window\n",
        "        all_weight = []\n",
        "        for curr_frame in range(windows, frame-windows+1):\n",
        "            forward_dist = np.sum(\n",
        "                all_adj_diff[curr_frame:curr_frame+windows+1], axis=0)\n",
        "            backward_dist = np.sum(\n",
        "                all_adj_diff[curr_frame-windows:curr_frame], axis=0)\n",
        "\n",
        "            total_dist = (forward_dist+backward_dist)\n",
        "            all_weight.append(total_dist)\n",
        "\n",
        "        all_weight = np.array(all_weight)\n",
        "        all_weight = (all_weight/(windows*2))+1\n",
        "\n",
        "    # diff between f frame and frames in window\n",
        "    elif method.lower() == 'me':\n",
        "\n",
        "        # sliding window\n",
        "        all_weight = []\n",
        "        for curr_frame in range(windows, frame-windows+1):\n",
        "\n",
        "            weight_by_frame = diff_move(extracted_ladk=extracted_ladk,\n",
        "                                        windows=windows,\n",
        "                                        curr_frame=curr_frame,\n",
        "                                        max_angle=max_angle,\n",
        "                                        method=method.lower())\n",
        "            all_weight.append(weight_by_frame)\n",
        "\n",
        "        all_weight = np.array(all_weight)\n",
        "\n",
        "    # add first n frame to all_weight\n",
        "    all_weight = np.insert(all_weight, 0, [all_weight[0]]*windows, axis=0)\n",
        "\n",
        "    # add last n frame to all_weight\n",
        "    all_weight = np.insert(all_weight, -1, [all_weight[-1]]*windows, axis=0)\n",
        "\n",
        "    return all_weight"
      ]
    },
    {
      "cell_type": "markdown",
      "metadata": {
        "id": "f6iRkWbVZx_b"
      },
      "source": [
        "# DTW"
      ]
    },
    {
      "cell_type": "code",
      "execution_count": 28,
      "metadata": {
        "id": "BRIntmGJUDY7"
      },
      "outputs": [],
      "source": [
        "def dm(extracted_ladk_vid1: np.array, extracted_ladk_vid2: np.array, sim_diff_function,\n",
        "       weight, norm_value: int, windows: int, method='aj', expo=False):\n",
        "\n",
        "    N = extracted_ladk_vid1.shape[0]\n",
        "    M = extracted_ladk_vid2.shape[0]\n",
        "\n",
        "    dist_mat = np.zeros((N, M))\n",
        "    dist_ladk_mat = np.zeros((N, M), dtype=object)\n",
        "\n",
        "    if isinstance(weight, str):\n",
        "        if weight.lower() == 'auto':\n",
        "            weight = MA_W(extracted_ladk_vid1, windows, norm_value, method)\n",
        "    else:\n",
        "        weight = [weight]*max(N, M)\n",
        "\n",
        "    for i in range(N):\n",
        "        for j in range(M):\n",
        "\n",
        "            dist_ladk_mat[i, j] = sim_diff_function(\n",
        "                extracted_ladk_vid1[i], extracted_ladk_vid2[j], weight[i], norm_value, expo)\n",
        "            dist_mat[i, j] = np.sum(dist_ladk_mat[i, j]) / \\\n",
        "                np.sum(weight[i])  # 0-1 (Default weight)\n",
        "\n",
        "    return dist_ladk_mat, dist_mat"
      ]
    },
    {
      "cell_type": "code",
      "source": [
        "def last_path(path_list, expert_frame):\n",
        "    res_path = []\n",
        "    for i,j in path_list:\n",
        "\n",
        "        res_path.append((i,j))\n",
        "        if i == expert_frame-1:\n",
        "            break\n",
        "\n",
        "    return res_path"
      ],
      "metadata": {
        "id": "n0Cd-5oXHUqk"
      },
      "execution_count": 29,
      "outputs": []
    },
    {
      "cell_type": "code",
      "execution_count": 30,
      "metadata": {
        "id": "gMaRiVmlXiJG"
      },
      "outputs": [],
      "source": [
        "def dp(dist_mat: np.array, mode: str):\n",
        "    \"\"\"\n",
        "    ขวาล่าง-ซ้ายบน (cost)\n",
        "    Find minimum-cost path through matrix `dist_mat` using dynamic programming.\n",
        "\n",
        "    The cost of a path is defined as the sum of the matrix entries on that\n",
        "    path. See the following for details of the algorithm:\n",
        "\n",
        "    - http://en.wikipedia.org/wiki/Dynamic_time_warping\n",
        "    - https://www.ee.columbia.edu/~dpwe/resources/matlab/dtw/dp.m\n",
        "\n",
        "    The notation in the first reference was followed, while Dan Ellis's code\n",
        "    (second reference) was used to check for correctness. Returns a list of\n",
        "    path indices and the cost matrix.\n",
        "    \"\"\"\n",
        "\n",
        "    N, M = dist_mat.shape\n",
        "\n",
        "    # Initialize the cost matrix\n",
        "    cost_mat = np.zeros((N, M))\n",
        "    if 'difference' in mode:\n",
        "        cost_mat = np.insert(cost_mat, 0, np.inf, axis=1)\n",
        "        cost_mat = np.insert(cost_mat, 0, np.inf, axis=0)\n",
        "    elif 'similarity' in mode:\n",
        "        cost_mat = np.insert(cost_mat, 0, -np.inf, axis=1)\n",
        "        cost_mat = np.insert(cost_mat, 0, -np.inf, axis=0)\n",
        "    cost_mat[0, 0] = 0\n",
        "\n",
        "    # Fill the cost matrix while keeping traceback information\n",
        "    traceback_mat = np.zeros((N, M), dtype='uint8')\n",
        "    for i in range(N):\n",
        "        for j in range(M):\n",
        "            penalty = [\n",
        "                cost_mat[i, j],      # match (0)\n",
        "                cost_mat[i, j + 1],  # insertion (1)\n",
        "                cost_mat[i + 1, j]]  # deletion (2)\n",
        "            if 'difference' in mode:\n",
        "                i_penalty = np.argmin(penalty)\n",
        "            elif 'similarity' in mode:\n",
        "                i_penalty = np.argmax(penalty)\n",
        "            cost_mat[i + 1, j + 1] = dist_mat[i, j] + penalty[i_penalty]\n",
        "            traceback_mat[i, j] = i_penalty\n",
        "\n",
        "    # Traceback from bottom right\n",
        "    i = N - 1\n",
        "    j = M - 1\n",
        "    path = [(i, j)]\n",
        "    vert_hor = 0\n",
        "\n",
        "    while i > 0 or j > 0:\n",
        "        tb_type = traceback_mat[i, j]\n",
        "\n",
        "        if tb_type == 0:\n",
        "            # Match\n",
        "            i = i - 1\n",
        "            j = j - 1\n",
        "\n",
        "        elif tb_type == 1:\n",
        "            # Insertion\n",
        "            i = i - 1\n",
        "            vert_hor += 1\n",
        "\n",
        "        elif tb_type == 2:\n",
        "            # Deletion\n",
        "            j = j - 1\n",
        "            vert_hor += 1\n",
        "\n",
        "        path.append((i, j))\n",
        "\n",
        "    # Strip infinity edges from cost_mat before returning\n",
        "    cost_mat = cost_mat[1:, 1:]\n",
        "    cost_mat = cost_mat/len(path)\n",
        "    path = last_path(path[::-1], N)\n",
        "\n",
        "    return path, cost_mat, vert_hor"
      ]
    },
    {
      "cell_type": "code",
      "execution_count": 31,
      "metadata": {
        "id": "ihpgGgrxtn6f"
      },
      "outputs": [],
      "source": [
        "def unique_path(path):\n",
        "    new_path = []\n",
        "    temp_i = None\n",
        "    temp_j = None\n",
        "    for i, j in path:\n",
        "        if (i == temp_i) or (j == temp_j):\n",
        "            continue\n",
        "        temp_i = i\n",
        "        temp_j = j\n",
        "        new_path.append((i, j))\n",
        "    return np.array(new_path)"
      ]
    },
    {
      "cell_type": "code",
      "execution_count": 32,
      "metadata": {
        "id": "OyhnzWHqYAGO"
      },
      "outputs": [],
      "source": [
        "def dtw(name_vid1: str, name_vid2: str, extracted_ladk_vid1: np.array, extracted_ladk_vid2: np.array, sim_diff_function,\n",
        "        path_finder, weight, norm_value=180, windows=50, thresh=False, MAW_method='aj', expo=False):\n",
        "\n",
        "    thresh_name=''\n",
        "    expo_name=''\n",
        "    keyframe_name=''\n",
        "\n",
        "    if 2 in set(weight):\n",
        "        weight_name = '-Weight'\n",
        "    else:\n",
        "        weight_name = '-Unweight'\n",
        "\n",
        "    if isinstance(weight, float):\n",
        "        weight_name = '-MAW'\n",
        "    else:\n",
        "        window = ''\n",
        "\n",
        "    if thresh:\n",
        "        thresh_name = '-thresh'\n",
        "\n",
        "    if expo:\n",
        "        expo_name = '-expo'\n",
        "\n",
        "    if MAW_method == 'me':\n",
        "        maw_met_name = '-my-method'\n",
        "    else:\n",
        "        maw_met_name = ''\n",
        "\n",
        "    dist_lndmk_mat, dist_mat = dm(extracted_ladk_vid1=extracted_ladk_vid1,\n",
        "                                  extracted_ladk_vid2=extracted_ladk_vid2,\n",
        "                                  sim_diff_function=sim_diff_function,\n",
        "                                  weight=weight,\n",
        "                                  norm_value=norm_value,\n",
        "                                  windows=windows,\n",
        "                                  method=MAW_method,\n",
        "                                  expo=expo)\n",
        "\n",
        "    path, cost_mat, vert_hor = path_finder(dist_mat=dist_mat,\n",
        "                                           mode=sim_diff_function.__name__)\n",
        "\n",
        "    row = np.array(path)[:, 0]\n",
        "    col = np.array(path)[:, 1]\n",
        "\n",
        "    dist_mat_path = dist_mat[row, col]\n",
        "\n",
        "    unique_row = unique_path(path)[:, 0]\n",
        "    unique_col = unique_path(path)[:, 1]\n",
        "    dist_mat_unique = dist_mat[unique_row, unique_col]\n",
        "\n",
        "    frames_count = dist_mat_unique.shape[0]\n",
        "\n",
        "    if 'difference' in sim_diff_function.__name__:\n",
        "        dist_mat_path = 1-dist_mat_path\n",
        "        dist_mat_unique = 1-dist_mat_unique\n",
        "\n",
        "    cost = np.sum(dist_mat_path)/len(path)\n",
        "    std_all = np.std(dist_mat_path, dtype=np.float32)\n",
        "    std_unique = np.std(dist_mat_unique, dtype=np.float32)\n",
        "    mean = np.mean(dist_mat_path, dtype=np.float32)\n",
        "\n",
        "    if thresh:\n",
        "        thresh = np.mean(dist_mat_path)-0.03\n",
        "        cost = np.sum(dist_mat_path[dist_mat_path > thresh])/len(path)\n",
        "\n",
        "    # df1 = pd.DataFrame({'Unique_frames':list(zip(unique_row, unique_col)), 'Sim_score':list(dist_mat_unique)})\n",
        "    # df1.to_csv(\"{}{}dtw_{}_{}_{}{}dtw_{}_{}_{}_{}{}{}{}{}{}{}.csv\".format(desktop+slash+'dtw', slash, name_vid1, name_vid2, sim_diff_function.__name__,\n",
        "    #                                                           slash, name_vid1, name_vid2, sim_diff_function.__name__, path_finder.__name__,\n",
        "    #                                                          weight_name,window,maw_met_name,expo_name,thresh_name,keyframe_name))\n",
        "\n",
        "    return None, None, path, dist_mat, dist_lndmk_mat, cost_mat, vert_hor, cost, [std_all, std_unique, mean, frames_count]"
      ]
    },
    {
      "cell_type": "code",
      "execution_count": 33,
      "metadata": {
        "id": "7iqVRleGKI5C"
      },
      "outputs": [],
      "source": [
        "def dtw_2person(extracted_ladk_vid1: np.array, extracted_ladk_vid2: np.array, sim_diff_function,\n",
        "        path_finder, weight, norm_value=180, windows=50, thresh=False, MAW_method='aj', expo=False):\n",
        "\n",
        "    dist_lndmk_mat, dist_mat = dm(extracted_ladk_vid1=extracted_ladk_vid1,\n",
        "                                  extracted_ladk_vid2=extracted_ladk_vid2,\n",
        "                                  sim_diff_function=sim_diff_function,\n",
        "                                  weight=weight,\n",
        "                                  norm_value=norm_value,\n",
        "                                  windows=windows,\n",
        "                                  method=MAW_method,\n",
        "                                  expo=expo)\n",
        "\n",
        "    path, cost_mat, vert_hor = path_finder(dist_mat=dist_mat,\n",
        "                                           mode=sim_diff_function.__name__)\n",
        "\n",
        "    row = np.array(path)[:, 0]\n",
        "    col = np.array(path)[:, 1]\n",
        "    dist_mat_path = dist_mat[row, col]\n",
        "\n",
        "    unique_row = unique_path(path)[:, 0]\n",
        "    unique_col = unique_path(path)[:, 1]\n",
        "    dist_mat_unique = dist_mat[unique_row, unique_col]\n",
        "\n",
        "    frames_count = dist_mat_unique.shape[0]\n",
        "\n",
        "    if 'difference' in sim_diff_function.__name__:\n",
        "        dist_mat_path = 1-dist_mat_path\n",
        "        dist_mat_unique = 1-dist_mat_unique\n",
        "\n",
        "    cost = np.sum(dist_mat_path)/len(path)\n",
        "    std_all = np.std(dist_mat_path, dtype=np.float32)\n",
        "    std_unique = np.std(dist_mat_unique, dtype=np.float32)\n",
        "    mean = np.mean(dist_mat_path, dtype=np.float32)\n",
        "\n",
        "    if thresh:\n",
        "        thresh = np.mean(dist_mat_path)-0.03\n",
        "        cost = np.sum(dist_mat_path[dist_mat_path > thresh])/len(path)\n",
        "\n",
        "    return cost"
      ]
    },
    {
      "cell_type": "code",
      "execution_count": 34,
      "metadata": {
        "id": "F4-H01Mbqyb2"
      },
      "outputs": [],
      "source": [
        "!mkdir \"{desktop}{slash}dtw\""
      ]
    },
    {
      "cell_type": "code",
      "execution_count": 35,
      "metadata": {
        "id": "TehWyFdhbBLU"
      },
      "outputs": [],
      "source": [
        "# keyframes_list, student_kf, path_test, dist_mat_test, dist_lndmk_mat_test, cost_mat_test, vert_hor_test, cost_test, stats = dtw('vid1','vid2',limb_vid1, limb_vid2, cosine_similarity, dp, 'auto', 90, 60, True, 'aj')"
      ]
    },
    {
      "cell_type": "code",
      "execution_count": 36,
      "metadata": {
        "id": "J5jRlAzDzpes"
      },
      "outputs": [],
      "source": [
        "# keyframes_list, student_kf, path_test, dist_mat_test, dist_lndmk_mat_test, cost_mat_test, vert_hor_test, cost_test, stats = dtw('vid1', 'vid2', limb_vid1, limb_vid2, cosine_difference, dp, 'auto', 90, 60, False, 'aj')"
      ]
    },
    {
      "cell_type": "markdown",
      "metadata": {
        "id": "_zRrkcP1Z-0x"
      },
      "source": [
        "# Find keyframes"
      ]
    },
    {
      "cell_type": "code",
      "execution_count": 37,
      "metadata": {
        "id": "ms85YLTsr80r"
      },
      "outputs": [],
      "source": [
        "def video_to_img(path):\n",
        "    vid = cv2.VideoCapture(path)\n",
        "    vid_name = path.split(slash)[-1].replace('.mp4','')\n",
        "    !mkdir \"{desktop}{slash}img{slash}{vid_name}\"\n",
        "    count = 0\n",
        "    while vid.isOpened():\n",
        "\n",
        "        ret, frame = vid.read()\n",
        "\n",
        "        if not ret:\n",
        "            break\n",
        "\n",
        "        cv2.imwrite(\"{}{}img{}{}{}{}_{}.jpg\".format(desktop, slash, slash, vid_name, slash, vid_name,count), frame)\n",
        "\n",
        "        count += 1\n",
        "\n",
        "    vid.release()\n",
        "    cv2.destroyAllWindows()"
      ]
    },
    {
      "cell_type": "markdown",
      "metadata": {
        "id": "PVEwuVwp3J1N"
      },
      "source": [
        "## Find matching keyframe"
      ]
    },
    {
      "cell_type": "code",
      "execution_count": 46,
      "metadata": {
        "id": "Gkem4TrA9-k8"
      },
      "outputs": [],
      "source": [
        "def match_kf(keyframe_list, dist_mat):\n",
        "\n",
        "    keyframe_copy = copy(keyframe_list)\n",
        "    student_kf = []\n",
        "    kf_score = []\n",
        "    penalty = np.arange(0,0.3,0.1)\n",
        "\n",
        "    for p in penalty:\n",
        "        student_kf_temp = [0]\n",
        "        kf_score_temp = []\n",
        "\n",
        "        # เริ่มต้น\n",
        "        low_bound = np.max(dist_mat[keyframe_copy[0], 0:])-p\n",
        "        match_idx = np.where(dist_mat[keyframe_copy[0], 0:] >= low_bound)[0] #ครั้งแรกจะมีแค่ max อันเดียว, มากกว่า max ไม่มี\n",
        "        min_match_idx = np.where(dist_mat[keyframe_copy[0], 0:] == np.sort(dist_mat[keyframe_copy[0], match_idx])[0])[0][0]\n",
        "\n",
        "        print('kf: ',keyframe_copy[0])\n",
        "        print('student_kf_temp: ',student_kf_temp)\n",
        "        print('low bound: ',low_bound)\n",
        "        print('match_idx: ',match_idx)\n",
        "        print('min_match_idx: ',min_match_idx)\n",
        "        print(np.sort(dist_mat[keyframe_copy[0], match_idx]))\n",
        "        print('---------')\n",
        "\n",
        "        student_kf_temp.append(min_match_idx)\n",
        "        kf_score_temp.append(dist_mat[keyframe_copy[0], min_match_idx])\n",
        "\n",
        "        for idx, kf in enumerate(keyframe_copy[1:]):\n",
        "            idx = idx+1\n",
        "            if keyframe_copy[-1] != kf:\n",
        "                # ไส้กลาง\n",
        "                low_bound = np.max(dist_mat[kf, student_kf_temp[idx]:])-p\n",
        "                match_idx = student_kf_temp[idx]+np.where(dist_mat[kf, student_kf_temp[idx]:] >= low_bound)[0]\n",
        "                min_match_idx = student_kf_temp[idx]+np.where(dist_mat[kf, student_kf_temp[idx]:] == np.sort(dist_mat[kf, match_idx])[0])[0][0]\n",
        "\n",
        "                print('kf: ',kf)\n",
        "                print('student_kf_temp: ',student_kf_temp)\n",
        "                print('low bound: ',low_bound)\n",
        "                print('match_idx: ',match_idx)\n",
        "                print('min_match_idx: ',min_match_idx)\n",
        "                print(np.sort(dist_mat[kf, match_idx]))\n",
        "                print('---------')\n",
        "\n",
        "                student_kf_temp.append(min_match_idx)\n",
        "                kf_score_temp.append(dist_mat[kf, min_match_idx])\n",
        "\n",
        "            else:\n",
        "                # ตอนสุดท้าย\n",
        "\n",
        "                low_bound = np.max(dist_mat[kf, student_kf_temp[idx]:])\n",
        "                match_idx = student_kf_temp[idx]+np.where(dist_mat[kf, student_kf_temp[idx]:] >= low_bound)[0]\n",
        "                min_match_idx = student_kf_temp[idx]+np.where(dist_mat[kf, student_kf_temp[idx]:] == np.sort(dist_mat[kf, match_idx])[-1])[0][0]\n",
        "\n",
        "                print('kf: ',kf)\n",
        "                print('student_kf_temp: ',student_kf_temp)\n",
        "                print('low bound: ',low_bound)\n",
        "                print('match_idx: ',match_idx)\n",
        "                print('min_match_idx: ',min_match_idx)\n",
        "                print(np.sort(dist_mat[kf, match_idx]))\n",
        "                print('---------')\n",
        "\n",
        "                student_kf_temp.append(min_match_idx)\n",
        "                kf_score_temp.append(dist_mat[kf, min_match_idx])\n",
        "\n",
        "        kf_score.append(np.mean(kf_score_temp))\n",
        "        student_kf.append(student_kf_temp)\n",
        "\n",
        "    keyframe_copy.insert(0,0)\n",
        "    result =  student_kf[np.argmax(kf_score)]\n",
        "    if dist_mat.shape[0]-1 not in keyframe_copy:\n",
        "        keyframe_copy.append(dist_mat.shape[0]-1)\n",
        "        result.append(dist_mat.shape[1]-1)\n",
        "\n",
        "\n",
        "    if len(student_kf[np.argmax(kf_score)]) != len(keyframe_copy):\n",
        "        print(keyframe_copy)\n",
        "        print(student_kf[np.argmax(kf_score)])\n",
        "\n",
        "    return keyframe_copy, result"
      ]
    },
    {
      "cell_type": "code",
      "source": [
        "def match_kf(keyframe_list, dist_mat):\n",
        "\n",
        "    keyframe_copy = copy(keyframe_list)\n",
        "    student_kf = []\n",
        "    kf_score = []\n",
        "    penalty = np.arange(0,0.3,0.1)\n",
        "\n",
        "    for p in penalty:\n",
        "        student_kf_temp = [0]\n",
        "        kf_score_temp = []\n",
        "\n",
        "        # เริ่มต้น\n",
        "        low_bound = np.max(dist_mat[keyframe_copy[0], 0:])-p\n",
        "        match_idx = np.where(dist_mat[keyframe_copy[0], 0:] >= low_bound)[0] #ครั้งแรกจะมีแค่ max อันเดียว, มากกว่า max ไม่มี\n",
        "        min_match_idx = np.where(dist_mat[keyframe_copy[0], 0:] == np.sort(dist_mat[keyframe_copy[0], match_idx])[0])[0][0]\n",
        "\n",
        "        student_kf_temp.append(min_match_idx)\n",
        "        kf_score_temp.append(dist_mat[keyframe_copy[0], min_match_idx])\n",
        "\n",
        "        for idx, kf in enumerate(keyframe_copy[1:]):\n",
        "            idx = idx+1\n",
        "            if keyframe_copy[-1] != kf:\n",
        "                # ไส้กลาง\n",
        "                low_bound = np.max(dist_mat[kf, student_kf_temp[idx]:])-p\n",
        "                match_idx = student_kf_temp[idx]+np.where(dist_mat[kf, student_kf_temp[idx]:] >= low_bound)[0]\n",
        "                min_match_idx = student_kf_temp[idx]+np.where(dist_mat[kf, student_kf_temp[idx]:] == np.sort(dist_mat[kf, match_idx])[0])[0][0]\n",
        "\n",
        "                student_kf_temp.append(min_match_idx)\n",
        "                kf_score_temp.append(dist_mat[kf, min_match_idx])\n",
        "\n",
        "            else:\n",
        "                # ตอนสุดท้าย\n",
        "\n",
        "                low_bound = np.max(dist_mat[kf, student_kf_temp[idx]:])\n",
        "                match_idx = student_kf_temp[idx]+np.where(dist_mat[kf, student_kf_temp[idx]:] >= low_bound)[0]\n",
        "                min_match_idx = student_kf_temp[idx]+np.where(dist_mat[kf, student_kf_temp[idx]:] == np.sort(dist_mat[kf, match_idx])[-1])[0][0]\n",
        "\n",
        "                student_kf_temp.append(min_match_idx)\n",
        "                kf_score_temp.append(dist_mat[kf, min_match_idx])\n",
        "\n",
        "        kf_score.append(np.mean(kf_score_temp))\n",
        "        student_kf.append(student_kf_temp)\n",
        "\n",
        "    keyframe_copy.insert(0,0)\n",
        "    result =  student_kf[np.argmax(kf_score)]\n",
        "    if dist_mat.shape[0]-1 not in keyframe_copy:\n",
        "        keyframe_copy.append(dist_mat.shape[0]-1)\n",
        "        result.append(dist_mat.shape[1]-1)\n",
        "\n",
        "    if len(student_kf[np.argmax(kf_score)]) != len(keyframe_copy):\n",
        "        print(keyframe_copy)\n",
        "        print(student_kf[np.argmax(kf_score)])\n",
        "\n",
        "    return keyframe_copy, result"
      ],
      "metadata": {
        "id": "CGfyZ9Ay-YOC"
      },
      "execution_count": 48,
      "outputs": []
    },
    {
      "cell_type": "code",
      "execution_count": 49,
      "metadata": {
        "id": "iQu5U1TN0SiH"
      },
      "outputs": [],
      "source": [
        "def dtw_keyframe(name_vid1: str, name_vid2: str, extracted_ladk_vid1: np.array, extracted_ladk_vid2: np.array, keyframes_list: list, sim_diff_function, path_finder, weight,\n",
        "                 norm_value=180, windows=50, thresh=False, MAW_method='aj', expo=False):\n",
        "\n",
        "    thresh_name=''\n",
        "    expo_name=''\n",
        "    keyframe_name=''\n",
        "\n",
        "    if 2 in set(weight):\n",
        "        weight_name = '-Weight'\n",
        "    else:\n",
        "        weight_name = '-Unweight'\n",
        "\n",
        "    if isinstance(weight, float):\n",
        "        weight_name = '-MAW'\n",
        "    else:\n",
        "        window = ''\n",
        "\n",
        "    if thresh:\n",
        "        thresh_name = '-thresh'\n",
        "\n",
        "    if expo:\n",
        "        expo_name = '-expo'\n",
        "\n",
        "    if MAW_method == 'me':\n",
        "        maw_met_name = '-my-method'\n",
        "    else:\n",
        "        maw_met_name = ''\n",
        "\n",
        "    if keyframes_list != []:\n",
        "        keyframe_name = '-keyframe'\n",
        "\n",
        "    if keyframes_list == []:\n",
        "        return dtw(name_vid1,\n",
        "                   name_vid2,\n",
        "                   extracted_ladk_vid1=extracted_ladk_vid1,\n",
        "                   extracted_ladk_vid2=extracted_ladk_vid2,\n",
        "                   sim_diff_function=sim_diff_function,\n",
        "                   path_finder=path_finder,\n",
        "                   weight=weight,\n",
        "                   norm_value=norm_value,\n",
        "                   windows=windows,\n",
        "                   thresh=thresh,\n",
        "                   MAW_method=MAW_method,\n",
        "                   expo=expo)\n",
        "\n",
        "    dist_lndmk_mat, dist_mat = dm(extracted_ladk_vid1=extracted_ladk_vid1,\n",
        "                                  extracted_ladk_vid2=extracted_ladk_vid2,\n",
        "                                  sim_diff_function=sim_diff_function,\n",
        "                                  weight=weight,\n",
        "                                  norm_value=norm_value,\n",
        "                                  windows=windows,\n",
        "                                  method=MAW_method,\n",
        "                                  expo=expo)\n",
        "\n",
        "    if 'difference' in sim_diff_function.__name__:\n",
        "        dist_mat = 1-dist_mat\n",
        "\n",
        "    keyframes_list, student_kf = match_kf(keyframes_list, dist_mat)\n",
        "\n",
        "    all_vert_hor = 0\n",
        "    all_row = np.array([], dtype=np.uint16).reshape(0, 1)\n",
        "    all_col = np.array([], dtype=np.uint16).reshape(0, 1)\n",
        "\n",
        "    for ks, ke, stks, stke in list(zip(keyframes_list, keyframes_list[1:], student_kf, student_kf[1:])):\n",
        "\n",
        "        path, cost_mat, vert_hor = path_finder(\n",
        "            dist_mat[ks:ke+1, stks:stke+1], sim_diff_function.__name__)\n",
        "\n",
        "        row = (np.asarray(path)+ks)[:, 0].reshape(-1, 1)\n",
        "        col = (np.asarray(path)+stks)[:, 1].reshape(-1, 1)\n",
        "\n",
        "        all_row = np.vstack((all_row, row))\n",
        "        all_col = np.vstack((all_col, col))\n",
        "\n",
        "        all_vert_hor += vert_hor\n",
        "\n",
        "    all_path = np.unique(np.hstack((all_row, all_col)), axis=0)\n",
        "\n",
        "    dist_mat_path = dist_mat[all_path[:, 0], all_path[:, 1]]\n",
        "    dist_mat_unique = dist_mat[unique_path(all_path)[:, 0], unique_path(all_path)[:, 1]]\n",
        "    unique_frames_count = dist_mat_unique.shape[0]\n",
        "\n",
        "    cost = np.mean(dist_mat_path)\n",
        "    std_all = np.std(dist_mat_path, dtype=np.float32)\n",
        "    std_unique = np.std(dist_mat_unique, dtype=np.float32)\n",
        "    mean = np.mean(dist_mat_path, dtype=np.float32)\n",
        "\n",
        "    if thresh:\n",
        "        thresh = np.mean(dist_mat_path)-0.03\n",
        "        cost = np.sum(dist_mat_path[dist_mat_path > thresh])/all_path.shape[0]\n",
        "\n",
        "    return keyframes_list, student_kf, all_path, dist_mat, dist_lndmk_mat, cost_mat, all_vert_hor, cost, [std_all, std_unique, mean, unique_frames_count]"
      ]
    },
    {
      "cell_type": "code",
      "execution_count": 50,
      "metadata": {
        "id": "m5syigEQ7JAU"
      },
      "outputs": [],
      "source": [
        "def save_kf_img(name_vid1, name_vid2, all_frame_vid1, all_frame_vid2, kf, stu_kf, des_path):\n",
        "\n",
        "    !mkdir \"{des_path}{slash}kf_img\"\n",
        "\n",
        "    for i,j in zip(kf, stu_kf):\n",
        "\n",
        "        match_kf_img = hconcat_resize([all_frame_vid1[i][:,:,::-1], all_frame_vid2[j][:,:,::-1]])\n",
        "        plt.axis(False)\n",
        "        plt.imshow(match_kf_img)\n",
        "        plt.savefig('{}{}kf_img{}{}_{}_{}_{}'.format(des_path, slash, slash, name_vid1, name_vid2, i, j),bbox_inches='tight')"
      ]
    },
    {
      "cell_type": "markdown",
      "metadata": {
        "id": "sM6WES9Rc8ie"
      },
      "source": [
        "# Display"
      ]
    },
    {
      "cell_type": "markdown",
      "metadata": {
        "id": "ZQdaG4hMgrI-"
      },
      "source": [
        "## Create legend"
      ]
    },
    {
      "cell_type": "code",
      "execution_count": 51,
      "metadata": {
        "colab": {
          "base_uri": "https://localhost:8080/",
          "height": 165
        },
        "id": "wODJbuyjc_y7",
        "outputId": "86570787-bfee-4af6-c339-370851471674"
      },
      "outputs": [
        {
          "output_type": "stream",
          "name": "stderr",
          "text": [
            "<ipython-input-51-4a430417953b>:7: MatplotlibDeprecationWarning: The get_cmap function was deprecated in Matplotlib 3.7 and will be removed two minor releases later. Use ``matplotlib.colormaps[name]`` or ``matplotlib.colormaps.get_cmap(obj)`` instead.\n",
            "  cmap = plt.cm.get_cmap(cmap)\n"
          ]
        },
        {
          "output_type": "display_data",
          "data": {
            "text/plain": [
              "<Figure size 600x200 with 1 Axes>"
            ],
            "image/png": "[encoded data removed]"
          },
          "metadata": {}
        }
      ],
      "source": [
        "import matplotlib.colors\n",
        "\n",
        "\n",
        "def color_legend():\n",
        "    cmap = matplotlib.colors.LinearSegmentedColormap.from_list(\n",
        "        \"\", [\"red\", \"yellow\", \"green\"])\n",
        "    cmap = plt.cm.get_cmap(cmap)\n",
        "    colors = cmap(np.arange(cmap.N))\n",
        "\n",
        "    fig, ax = plt.subplots(1, figsize=(6, 2), facecolor='black')\n",
        "    plt.tick_params(axis='x', labelcolor=[1, 1, 1])\n",
        "    plt.tick_params(axis='x', labelsize=20)\n",
        "    ax.get_yaxis().set_visible(False)\n",
        "    ax.imshow([colors], extent=[0, 10, 0, 1])\n",
        "    ax.set(xticks=([0, 10]))\n",
        "    ax.set(xticklabels=([0, 1]))\n",
        "    ax.tick_params(axis='x', labelrotation=-90)\n",
        "    plt.savefig('/content/drive/MyDrive/Resources/color_legend.png'.format(slash),\n",
        "                facecolor=fig.get_facecolor())\n",
        "    return fig\n",
        "\n",
        "\n",
        "cl = color_legend()"
      ]
    },
    {
      "cell_type": "code",
      "execution_count": 52,
      "metadata": {
        "id": "J6iY8Q6SgoF3"
      },
      "outputs": [],
      "source": [
        "def add_cl(image, y, x, width_ratio, height_ratio, dist, sim_diff_function):\n",
        "\n",
        "    cl = cv2.imread('/content/drive/MyDrive/Resources/color_legend.png')\n",
        "    dim = (int(image.shape[0]*height_ratio), int(image.shape[1]*width_ratio))\n",
        "    cl = cv2.resize(cl, dim)\n",
        "    cl_img = cv2.rotate(cl, cv2.ROTATE_90_COUNTERCLOCKWISE)\n",
        "    cl_height, cl_width, _ = cl_img.shape\n",
        "\n",
        "    dist_in = dist\n",
        "    if 'similarity' in sim_diff_function.__name__.lower():\n",
        "        dist_inv = 1 - dist\n",
        "\n",
        "    dist_y = dist_inv*cl_height\n",
        "\n",
        "    start_point = (int(0.7*cl_width), int(0.1*cl_height))\n",
        "    end_point = (int(cl_width-(0.7*cl_width)), int(int(0.1*cl_height)+dist_y))\n",
        "    cv2.rectangle(cl_img, start_point, end_point, (0, 0, 0), -1)\n",
        "\n",
        "    gray_cl = cv2.cvtColor(cl_img, cv2.COLOR_BGR2GRAY)\n",
        "    _, mask = cv2.threshold(gray_cl, 0, 255, cv2.THRESH_BINARY)\n",
        "    mask_inv = cv2.bitwise_not(mask)\n",
        "    roi = image[y:y+cl_height, x:x+cl_width]\n",
        "    img_bg = cv2.bitwise_and(roi, roi, mask=mask_inv)\n",
        "    result = cv2.add(img_bg, cl_img)\n",
        "    image[y:y+cl_height, x:x+cl_width] = result\n",
        "\n",
        "    alpha = 0.5\n",
        "    beta = (1.0 - alpha)\n",
        "    mask = cv2.cvtColor(mask, cv2.COLOR_GRAY2RGB)\n",
        "    dst = cv2.addWeighted(\n",
        "        image[y:y+cl_height, x:x+cl_width], alpha, mask, beta, 0.0)\n",
        "\n",
        "    image[y:y+cl_height, x:x+cl_width] = dst\n",
        "\n",
        "    ps.putBText(image, \"Similarity score\",\n",
        "                text_offset_x=5, text_offset_y=y-25, vspace=5, hspace=5,\n",
        "                font_scale=1, background_RGB=(0, 0, 0), text_RGB=(255, 250, 250))\n",
        "    ps.putBText(image, f'{dist*100:.2f}%',\n",
        "                text_offset_x=5, text_offset_y=y+cl_height+5, vspace=5, hspace=5,\n",
        "                font_scale=1, background_RGB=(0, 0, 0), text_RGB=(255, 250, 250))"
      ]
    },
    {
      "cell_type": "markdown",
      "metadata": {
        "id": "58anHkLsguu1"
      },
      "source": [
        "## Progress bar"
      ]
    },
    {
      "cell_type": "code",
      "execution_count": 53,
      "metadata": {
        "id": "962hcOBSg3kE"
      },
      "outputs": [],
      "source": [
        "def progressBar(image: np.array, dist: float, cost: float, sim_diff_function):\n",
        "    \"\"\"\n",
        "    วาดหลอดแสดงค่าคะแนน แสดงเป็นค่าความเหมือน\n",
        "\n",
        "    input:\n",
        "        image : frame ภาพที่จะวาด\n",
        "        dist : ค่าคะแนนความต่าง/ความเหมือนต่อเฟรม\n",
        "        cost : ยอดสะสมค่าคะแนนความต่าง/ความเหมือน\n",
        "        sim_diff_function : ฟังก์ชันที่ใช้ในการคำนวณความต่าง/ความเหมือน\n",
        "\n",
        "    output:\n",
        "        หลอดแนวตั้ง: แสดงค่าความเหมือนของวิดิโอทั้ง 2 ในคู่เฟรมนั้นๆ\n",
        "        หลอดแนวนอน: แสดงค่าความเหมือนรวมกันตั้งแต่ต้นยันจบของ 2 วิดิโอ\n",
        "    \"\"\"\n",
        "    height, width, _ = image.shape\n",
        "\n",
        "    if 'difference' in sim_diff_function.__name__.lower():\n",
        "        dist = 1 - dist\n",
        "        cost = 1 - cost\n",
        "\n",
        "    cv2.line(image, (0, height), (width, height), (255, 255, 255), 40)\n",
        "    cv2.line(image, (0, height), (int(cost*width), height), (50, 205, 50), 40)\n",
        "    cv2.putText(image, 'Total Similarity Score: ', (0, height), cv2.FONT_HERSHEY_SIMPLEX,\n",
        "                1, (0, 0, 0), 2, cv2.LINE_AA)\n",
        "    cv2.putText(image, '{:.2f}'.format(cost*100), (int(cost*width)-35, height), cv2.FONT_HERSHEY_SIMPLEX,\n",
        "                1, (0, 0, 0), 2, cv2.LINE_AA)"
      ]
    },
    {
      "cell_type": "markdown",
      "metadata": {
        "id": "yi2vGr4Cg-M4"
      },
      "source": [
        "## Error point"
      ]
    },
    {
      "cell_type": "code",
      "execution_count": 54,
      "metadata": {
        "id": "VIXryaZnhT_U"
      },
      "outputs": [],
      "source": [
        "def form_vec(coor_arr: np.array):\n",
        "    \"\"\"\n",
        "    เอาเฉพาะ x กับ y ในตำแหน่งข้อต่อ\n",
        "\n",
        "    input:\n",
        "        coor_arr: ตำแหน่งข้อต่อ 3 มิติ (x,y,z)\n",
        "\n",
        "    output:\n",
        "        ตำแหน่งข้อต่อ 2 มิติ\n",
        "    \"\"\"\n",
        "    return (int(coor_arr[0]), int(coor_arr[1]))"
      ]
    },
    {
      "cell_type": "code",
      "execution_count": 55,
      "metadata": {
        "id": "7Ui2rmouhJDI"
      },
      "outputs": [],
      "source": [
        "def denormalize_landmark(cam_landmark: np.array, mapped_landmark: list, width: int, height: int):\n",
        "    \"\"\"\n",
        "    denormalize landmark\n",
        "\n",
        "    input:\n",
        "        cam_landmark : ตำแหน่งข้อต่อแบบ camera coordinate\n",
        "        mapped_landmark : ตำแหน่ง landmark ที่ k ใน cam_landmark\n",
        "        width : ความกว้างของรูป (x)\n",
        "        height : ความสูงของรูป (y)\n",
        "\n",
        "    output:\n",
        "        denorm_landmark : denormalized landmark\n",
        "    \"\"\"\n",
        "\n",
        "    denorm_landmark = []\n",
        "    for i in mapped_landmark:\n",
        "        denorm_landmark.append(\n",
        "            [cam_landmark[i][0]*width, cam_landmark[i][1]*height, cam_landmark[i][2]*width])\n",
        "    denorm_landmark.append(\n",
        "        [cam_landmark[19][0]*width, cam_landmark[19][1]*height, cam_landmark[19][2]*width])\n",
        "    denorm_landmark.append(\n",
        "        [cam_landmark[20][0]*width, cam_landmark[20][1]*height, cam_landmark[20][2]*width])\n",
        "    denorm_landmark.append(\n",
        "        [cam_landmark[31][0]*width, cam_landmark[31][1]*height, cam_landmark[31][2]*width])\n",
        "    denorm_landmark.append(\n",
        "        [cam_landmark[32][0]*width, cam_landmark[32][1]*height, cam_landmark[32][2]*width])\n",
        "\n",
        "    return denorm_landmark"
      ]
    },
    {
      "cell_type": "code",
      "execution_count": 56,
      "metadata": {
        "id": "K-m2VY6JhFZo"
      },
      "outputs": [],
      "source": [
        "def map_landmark(sim_diff_function, k: int):\n",
        "    \"\"\"\n",
        "    ฟังก์ชัน map ตำแหน่งของข้อพับทั้ง 12 หรือท่อนแขนท่อนขาทั้ง 16 เป็นตำแหน่งใน cam_landmark\n",
        "\n",
        "    input:\n",
        "        sim_diff_function : ฟังก์ชันที่ใช้ในการคำนวณค่าคะแนน\n",
        "        k : ข้อพับ/ท่อนแขนท่อนขาที่เท่าไหร่\n",
        "\n",
        "    output:\n",
        "        dict_map[k] : ตำแหน่งของข้อพับ/ท่อนแขนท่อนขาที่ k ใน cam_landmark\n",
        "    \"\"\"\n",
        "\n",
        "    if \"angle\" in sim_diff_function.__name__.lower():\n",
        "        dict_map = {0: [16], 1: [14], 2: [12], 3: [24], 4: [26], 5: [\n",
        "            28], 6: [15], 7: [13], 8: [11], 9: [23], 10: [25], 11: [27]}\n",
        "    elif \"cosine\" in sim_diff_function.__name__.lower():\n",
        "        dict_map = {0: [28, 32], 1: [26, 28], 2: [24, 26], 3: [12, 24], 4: [16, 20], 5: [14, 16], 6: [12, 14], 7: [27, 31], 8: [25, 27], 9: [23, 25],\n",
        "                    10: [11, 23], 11: [15, 19], 12: [13, 15], 13: [11, 13], 14: [11, 12], 15: [23, 24]}\n",
        "    return dict_map[k]"
      ]
    },
    {
      "cell_type": "code",
      "execution_count": 57,
      "metadata": {
        "id": "Izj3AIZbhA9y"
      },
      "outputs": [],
      "source": [
        "def color_error(cam_landmark: np.array, width: int, height: int, image: np.array, dist_lndmk_mat: np.array, k: int,\n",
        "                weight: np.array, sim_diff_function):\n",
        "    \"\"\"\n",
        "    ฟังก์ชันแสดงจุดที่ผิดพลาด\n",
        "\n",
        "    input:\n",
        "        cam_landmark : ตำแหน่งข้อต่อแบบ camera coordinate\n",
        "        width : ความกว้างของรูป (x)\n",
        "        height : ความสูงของรูป (y)\n",
        "        image : รูปภาพ frame ที่ต้องการ\n",
        "        dist_lndmk_mat : ค่าคะนนความต่าง/ความเหมือน ของแต่ละข้อต่อ ของทุกคู่เฟรม (แยกข้อต่อ/แยกท่อนแขนท่อนขา)\n",
        "        k : ข้อต่อ/ท่อนแขนท่อนขา ที่เท่าไหร่ใน dist_lndmk_mat\n",
        "        weight : ค่าถ่วงน้ำหนักที่ได้จาก csv config\n",
        "        sim_diff_function : ฟังก์ชันที่ใช้คำนวณความต่าง/ความเหมือน\n",
        "\n",
        "    output:\n",
        "        new_image : ภาพที่แสดงจุดผิดพลาดไป 1 ข้อต่อ/ท่อนแขนท่อนขา\n",
        "    \"\"\"\n",
        "\n",
        "    annotated_img = image.copy()\n",
        "    denorm_landmark = denormalize_landmark(\n",
        "        cam_landmark, map_landmark(sim_diff_function, k), width, height)\n",
        "\n",
        "    for i in range(len(denorm_landmark)):\n",
        "        cv2.circle(image, (int(denorm_landmark[i][0]), int(\n",
        "            denorm_landmark[i][1])), 4, (255, 255, 255), -1)\n",
        "\n",
        "    ori_similarity = dist_lndmk_mat[k]\n",
        "\n",
        "    if \"angle\" in sim_diff_function.__name__.lower():\n",
        "        bright = ori_similarity*255\n",
        "        size = int(max(5, min(20, 1/(ori_similarity))))\n",
        "\n",
        "        cv2.circle(annotated_img, (int(denorm_landmark[0][0]), int(\n",
        "            denorm_landmark[0][1])), size, (0, bright, 255), -1)\n",
        "\n",
        "    elif \"cosine\" in sim_diff_function.__name__.lower():\n",
        "        bright = ori_similarity*255\n",
        "        size = int(max(3, min(20, 1/(ori_similarity))))\n",
        "\n",
        "        cv2.line(annotated_img, form_vec(denorm_landmark[0]), form_vec(\n",
        "            denorm_landmark[1]), (0, bright, 255), size)\n",
        "\n",
        "    opacity = 0.4\n",
        "    new_image = cv2.addWeighted(annotated_img, opacity, image, 1 - opacity, 0)\n",
        "\n",
        "    return new_image"
      ]
    },
    {
      "cell_type": "markdown",
      "metadata": {
        "id": "0Io_vB8HjJ8e"
      },
      "source": [
        "## Graph"
      ]
    },
    {
      "cell_type": "code",
      "execution_count": 58,
      "metadata": {
        "id": "J_6SfSS4Bn5f"
      },
      "outputs": [],
      "source": [
        "import wget\n",
        "import matplotlib.font_manager as mpl\n",
        "\n",
        "path = './thsarabunnew-webfont.ttf'\n",
        "\n",
        "check_file = os.path.isfile(path)\n",
        "\n",
        "if not check_file:\n",
        "\n",
        "    URL = \"https://github.com/Phonbopit/sarabun-webfont/raw/master/fonts/thsarabunnew-webfont.ttf\"\n",
        "    wget.download(URL, \"thsarabunnew-webfont.ttf\")\n",
        "\n",
        "mpl.fontManager.addfont(\"thsarabunnew-webfont.ttf\")"
      ]
    },
    {
      "cell_type": "code",
      "execution_count": 59,
      "metadata": {
        "id": "2dUyAESwjL85"
      },
      "outputs": [],
      "source": [
        "def plot_dtw(path: list, cost_mat: np.array, name_vid1: str, name_vid2: str, sim_diff_function, destination_path: str):\n",
        "    \"\"\"\n",
        "    plot กราฟเส้นทางที่ดีที่สุด (path) ของ DTW\n",
        "\n",
        "    input:\n",
        "        path : เส้นทางที่ดีที่สุดของ DTW ได้จากฟังก์ชัน dtw\n",
        "        cost_mat : cost matrix ผลรวมของคะแนนความต่าง/ความเหมือน ของทุกคู่เฟรมในเส้นทาง ได้จากฟังก์ชัน dtw\n",
        "        name_vid1 : ชื่อวิดิโอที่ 1\n",
        "        name_vid2 : ชื่อวิดิโอที่ 2\n",
        "        sim_diff_function : ฟังก์ชันที่ใช้คำนวณความต่าง/ความเหมือน ex. cosine_similarity, angle_difference\n",
        "\n",
        "    output:\n",
        "        path.png : กราฟแสดงเส้นทางของ DTW\n",
        "    \"\"\"\n",
        "\n",
        "    print(\"{}-{} ({})\".format(name_vid1, name_vid2, sim_diff_function.__name__))\n",
        "    fig = plt.figure()\n",
        "    plt.title(\"Path {}_{}_{}\".format(\n",
        "        name_vid1, name_vid2, sim_diff_function.__name__))\n",
        "    plt.axis([-10, cost_mat.shape[1], -10, cost_mat.shape[0]])\n",
        "    plt.grid(False)\n",
        "    ax = plt.gca()\n",
        "    ax.set_ylim(cost_mat.shape[0], -10)\n",
        "    ax.xaxis.tick_top()\n",
        "    ax.yaxis.tick_left()\n",
        "    ax.set_xlabel(name_vid2)\n",
        "    ax.set_ylabel(name_vid1)\n",
        "\n",
        "    x_path, y_path = zip(*path)\n",
        "    ax.plot(y_path, x_path)\n",
        "    plt.close()\n",
        "    fig.savefig(\"{}{}dtw_{}_{}_{}{}path.png\".format(destination_path,\n",
        "                slash, name_vid1, name_vid2, sim_diff_function.__name__, slash))"
      ]
    },
    {
      "cell_type": "code",
      "execution_count": 60,
      "metadata": {
        "id": "Mt4iRozejOwG"
      },
      "outputs": [],
      "source": [
        "def graph_dist_path(dist_mat: np.array, path: list, name_vid1: str, name_vid2: str, sim_diff_function, destination_path: str):\n",
        "    \"\"\"\n",
        "    plot line chart แสดงค่าคะแนนความต่าง/ความเหมือน ต่อ คู่เฟรมใน path\n",
        "\n",
        "    input:\n",
        "        dist_mat : distance matrix เมทริกซ์แสดงคะแนนความต่าง/ความเหมือน ของทุกคู่เฟรม (รวมทุกข้อต่อ/ท่อนแขนท่อนขา)\n",
        "        path : เส้นทางที่ดีที่สุดของ DTW ได้จากฟังก์ชัน dtw\n",
        "        name_vid1 : ชื่อวิดิโอที่ 1\n",
        "        name_vid2 : ชื่อวิดิโอที่ 2\n",
        "        sim_diff_function : ฟังก์ชันที่ใช้คำนวณความต่าง/ความเหมือน ex. cosine_similarity, angle_difference\n",
        "\n",
        "    output:\n",
        "        graph.png : กราฟแกน x เป็นคู่เฟรมที่อยู่ใน path แกน y เป็นค่าคะแนนความต่าง/ความเหมือน\n",
        "    \"\"\"\n",
        "\n",
        "    dist_df = pd.DataFrame({'path': [str(i) for i in path], 'norm_difference': [\n",
        "                           dist_mat[i, j] for i, j in path]})\n",
        "    dist_df['std'] = dist_df['norm_difference'].std()\n",
        "    dist_df['lower_bound'] = dist_df.apply(\n",
        "        lambda x: x['norm_difference']-x['std'], axis=1)\n",
        "    dist_df['upper_bound'] = dist_df.apply(\n",
        "        lambda x: x['norm_difference']+x['std'], axis=1)\n",
        "    fig = plt.figure(figsize=(100, 8))\n",
        "    plt.plot(dist_df['path'], dist_df['norm_difference'])\n",
        "    plt.fill_between(dist_df['path'], dist_df['lower_bound'],\n",
        "                     dist_df['upper_bound'], color='b', alpha=.15)\n",
        "    plt.title(\"difference\")\n",
        "    plt.xlabel('Path')\n",
        "    plt.ylabel('difference')\n",
        "    plt.xticks(rotation=90)\n",
        "    plt.close()\n",
        "    fig.savefig(\"{}{}{}_dtw_{}_{}{}graph.png\".format(destination_path,\n",
        "                slash, name_vid1, name_vid2, sim_diff_function.__name__, slash))"
      ]
    },
    {
      "cell_type": "markdown",
      "metadata": {
        "id": "4V_4fLnRhmNk"
      },
      "source": [
        "## Export Vdo"
      ]
    },
    {
      "cell_type": "code",
      "execution_count": 61,
      "metadata": {
        "id": "o03Y-IMqhxND"
      },
      "outputs": [],
      "source": [
        "def hconcat_resize(img_list: list):\n",
        "    \"\"\"\n",
        "    ต่อภาพที่ขนาดไม่เท่ากัน\n",
        "\n",
        "    input:\n",
        "        img_list : list ของรูปภาพที่ต้องการต่อ ex. [img1,img2]\n",
        "\n",
        "    output:\n",
        "        im_list_resize : รูปภาพที่ต่อกันแล้ว\n",
        "    \"\"\"\n",
        "    # take minimum hights\n",
        "    h_min = min(img.shape[0]\n",
        "                for img in img_list)\n",
        "\n",
        "    # image resizing\n",
        "    im_list_resize = [cv2.resize(img,\n",
        "                                 (int(img.shape[1] * h_min / img.shape[0]),\n",
        "                                  h_min), interpolation=cv2.INTER_CUBIC)\n",
        "                      for img in img_list]\n",
        "\n",
        "    # return final image\n",
        "    return cv2.hconcat(im_list_resize)"
      ]
    },
    {
      "cell_type": "code",
      "execution_count": 62,
      "metadata": {
        "id": "M7i3WTz7hplo"
      },
      "outputs": [],
      "source": [
        "def display_img(name_vid1: str, name_vid2: str, path: list, dist_mat: np.array, dist_lndmk_mat: np.array,\n",
        "                weight: np.array, sim_diff_function, path_finder, all_frame1: list, all_frame2: list, cam_land_vid1: np.array,\n",
        "                cam_land_vid2: np.array, destination_path: str):\n",
        "    \"\"\"\n",
        "    แสดงผลและเซฟรูป/วิดิโอ\n",
        "\n",
        "    input:\n",
        "        name_vid1 : ชื่อวิดิโอที่ 1\n",
        "        name_vid2 : ชื่อวิดิโอที่ 2\n",
        "        path : เส้นทางที่ดีที่สุดของ DTW ได้จากฟังก์ชัน dtw\n",
        "        dist_mat : distance matrix เมทริกซ์แสดงคะแนนความต่าง/ความเหมือน ของทุกคู่เฟรม (รวมทุกข้อต่อ/ท่อนแขนท่อนขา)\n",
        "        dist_lndmk_mat : ค่าคะนนความต่าง/ความเหมือน ของแต่ละข้อต่อ ของทุกคู่เฟรม (แยกข้อต่อ/แยกท่อนแขนท่อนขา) (ใช้แสดงจุดผิดพลาด)\n",
        "        weight : ค่าถ่วงน้ำหนักที่ได้จาก csv config\n",
        "        sim_diff_function : ฟังก์ชันที่ใช้คำนวณความต่าง/ความเหมือน ex. cosine_similarity, angle_difference\n",
        "        all_frame1 : รูปภาพทุกเฟรมของวิดิโอที่ 1 ที่วาดโครงกระดูกแล้ว\n",
        "        all_frame2 : รูปภาพทุกเฟรมของวิดิโอที่ 2 ที่วาดโครงกระดูกแล้ว\n",
        "        cam_land_vid1 : ตำแหน่งข้อต่อแบบ camera coordinate ของวิดิโอที่ 1\n",
        "        cam_land_vid2 : ตำแหน่งข้อต่อแบบ camera coordinate ของวิดิโอที่ 2\n",
        "\n",
        "    output:\n",
        "        folder : dtw_ชื่อวิดิโอที่1_ชื่อวิดิโอที่2_ชื่อฟังก์ชัน sim_diff_function\n",
        "    \"\"\"\n",
        "    if len(set(weight)) > 1:\n",
        "        weight_name = '-Weight'\n",
        "    else:\n",
        "        weight_name = '-Unweight'\n",
        "    height, width, _ = hconcat_resize([all_frame1[0], all_frame2[0]]).shape\n",
        "    out = cv2.VideoWriter(f'{destination_path}.avi', cv2.VideoWriter_fourcc(*'MJPG'),30,(width,height))\n",
        "    cl = cv2.imread('/content/drive/MyDrive/Resources/color_legend.png'.format(slash))\n",
        "    cl_img = cv2.rotate(cl, cv2.ROTATE_90_COUNTERCLOCKWISE)\n",
        "    cl_height, cl_width, _ = cl_img.shape\n",
        "    cost = 0\n",
        "    for i, j in path:\n",
        "\n",
        "        img1 = all_frame1[i].copy()\n",
        "        img2 = all_frame2[j].copy()\n",
        "        height1, width1, _ = img1.shape\n",
        "        height2, width2, _ = img2.shape\n",
        "        height_ratio = cl_height/max(height1, height2)\n",
        "        width_ratio = cl_width/max(width1, width2)\n",
        "\n",
        "        add_cl(image=img2,\n",
        "               y=int((height2/2)-(height2*height_ratio)/2),\n",
        "               x=0,\n",
        "               width_ratio=width_ratio,\n",
        "               height_ratio=height_ratio,\n",
        "               dist=dist_mat[i, j],\n",
        "               sim_diff_function=sim_diff_function)\n",
        "\n",
        "        cost += dist_mat[i, j]/len(path)\n",
        "\n",
        "        progressBar(image=img2,\n",
        "                    dist=dist_mat[i, j],\n",
        "                    cost=cost,\n",
        "                    sim_diff_function=sim_diff_function)\n",
        "\n",
        "        for k in range(dist_lndmk_mat[i, j].shape[0]):\n",
        "\n",
        "            # color_error ใช้ได้กับ similarity อย่างเดียว\n",
        "            if \"similarity\" in sim_diff_function.__name__.lower():\n",
        "                img1 = color_error(\n",
        "                    cam_land_vid1[i], width1, height1, img1, dist_lndmk_mat[i, j], k, weight, sim_diff_function)\n",
        "                img2 = color_error(\n",
        "                    cam_land_vid2[j], width2, height2, img2, dist_lndmk_mat[i, j], k, weight, sim_diff_function)\n",
        "            elif \"difference\" in sim_diff_function.__name__.lower():\n",
        "                img1 = color_error(\n",
        "                    cam_land_vid1[i], width1, height1, img1, 1-dist_lndmk_mat[i, j], k, weight, sim_diff_function)\n",
        "                img2 = color_error(\n",
        "                    cam_land_vid2[j], width2, height2, img2, 1-dist_lndmk_mat[i, j], k, weight, sim_diff_function)\n",
        "\n",
        "        merge_img = hconcat_resize([img1, img2])\n",
        "        cv2.imwrite(f'{destination_path}_{i}_{j}.jpg',merge_img)\n",
        "        out.write(merge_img)\n",
        "\n",
        "    out.release()"
      ]
    },
    {
      "cell_type": "markdown",
      "metadata": {
        "id": "wYyyBmsli3wn"
      },
      "source": [
        "# Warp up"
      ]
    },
    {
      "cell_type": "markdown",
      "source": [
        "##Keyframe dict"
      ],
      "metadata": {
        "id": "NWqjItUl6kvU"
      }
    },
    {
      "cell_type": "code",
      "source": [
        "!rm -rf /content/dtw\n",
        "!mkdir dtw"
      ],
      "metadata": {
        "id": "-BnSPEEJ10aS"
      },
      "execution_count": 67,
      "outputs": []
    },
    {
      "cell_type": "code",
      "execution_count": 63,
      "metadata": {
        "id": "OsnXpyU3pB9P"
      },
      "outputs": [],
      "source": [
        "diff_angle_dict = {\n",
        "    \"เข่าตรงหลัง_ตรง\": [178],\n",
        "    \"เข่าน้อยหน้า1_ตรง\":[221],\n",
        "    \"เข่าน้อยหน้า2_ตรง\":[268],\n",
        "    \"เข่าพร้อมศอกหน้า1_ตรง\":[164],\n",
        "    \"เข่าพร้อมศอกหน้า2_ตรง\":[222],\n",
        "    \"เข่าพร้อมศอกหลัง_ตรง\": [152],\n",
        "    \"เตะเฉียงหน้า_ตรง\": [124],\n",
        "    \"เตะเฉียงหลัง_ตรง\": [145],\n",
        "    \"เตะตรงหน้า1_ตรง\":[132],\n",
        "    \"เตะตรงหน้า2_ตรง\":[106],\n",
        "    \"ถีบข้างสลับฟันปลาหน้า1_ตรง\":[240, 274],\n",
        "    \"ถีบข้างสลับฟันปลาหน้า2_ตรง\":[174, 229],\n",
        "    \"ถีบตรงหน้า1_ตรง\":[241],\n",
        "    \"ถีบตรงหน้า2_ตรง\":[251],\n",
        "    \"ปิดพร้อมต่อยหลัง1_ตรง\":[171,190],\n",
        "    \"ปิดพร้อมต่อยหลัง2_ตรง\":[141,181],\n",
        "    \"ยอเขาพระสุเมรุหน้า1_ตรง\":[204],\n",
        "    \"ยอเขาพระสุเมรุหน้า2_ตรง\":[173],\n",
        "    \"ศอกกระทุ้งหน้า1_ตรง\":[219,240],\n",
        "    \"ศอกกระทุ้งหน้า2_ตรง\":[223,257],\n",
        "    \"ศอกเฉียงตีขึ้นตีลงหน้า1_ตรง\":[116,139],\n",
        "    \"ศอกเฉียงตีขึ้นตีลงหน้า2_ตรง\":[126,156],\n",
        "    \"ศอกเฉียงตีขึ้นตีลงหน้า3_ตรง\":[116,139],\n",
        "    \"ศอกเฉียงตีขึ้นหน้า1_ตรง\":[144],\n",
        "    \"ศอกเฉียงตีขึ้นหน้า2_ตรง\":[162],\n",
        "    \"ศอกเฉียงตีขึ้นหน้า_ตรง\": [123],\n",
        "    \"ศอกเฉียงตีลงหน้า1_ตรง\":[92],\n",
        "    \"ศอกเฉียงตีลงหน้า2_ตรง\":[82],\n",
        "    \"ศอกเฉียงตีลงหน้า3_ตรง\":[43],\n",
        "    \"ศอกเฉียงหลัง_ตรง\": [136],\n",
        "    \"สืบถอยพร้อมต่อยหมัดตรงหน้า1_ตรง\":[412],\n",
        "    \"สืบถอยพร้อมต่อยหมัดตรงหน้า2_ตรง\":[178],\n",
        "    \"หมัดกระแทกหน้า_ตรง\": [140]\n",
        "}"
      ]
    },
    {
      "cell_type": "code",
      "execution_count": 64,
      "metadata": {
        "id": "E7gCvruhnhgc"
      },
      "outputs": [],
      "source": [
        "friends_video_dict = {\n",
        "    \"เข่าตรงหลัง\":[144],\n",
        "    \"เข่าตัดหน้า\":[185],\n",
        "    \"เข่าตัดหลัง\":[214],\n",
        "    \"เข่าน้อยหน้า\":[310],\n",
        "    \"เข่าน้อยหลัง\": [423],\n",
        "    \"เข่าพร้อมศอกหน้า\":[220],\n",
        "    \"เข่าพร้อมศอกหลัง\":[171],\n",
        "    \"เตะเฉียงหน้า\":[214],\n",
        "    \"เตะเฉียงหลัง\":[107],\n",
        "    \"เตะตรงหน้า\":[116],\n",
        "    \"ถีบข้างสลับฟันปลาหน้า\":[195, 232],\n",
        "    \"ถีบตรงหน้า\":[208],\n",
        "    \"ปิดพร้อมต่อยหลัง\":[133,171],\n",
        "    \"ยอเขาพระสุเมรุหน้า\":[204],\n",
        "    \"ศอกกระทุ้งหน้า\":[251,268],\n",
        "    \"ศอกเฉียงตีขึ้นตีลงหน้า\":[84,110],\n",
        "    \"ศอกเฉียงตีขึ้นหน้า\":[163],\n",
        "    \"ศอกเฉียงตีลงหน้า\":[52],\n",
        "    \"สืบถอยพร้อมต่อยหมัดตรงหน้า\":[405],\n",
        "    \"หมัดกระแทกหน้า\":[194]\n",
        "}"
      ]
    },
    {
      "cell_type": "code",
      "execution_count": 66,
      "metadata": {
        "id": "0NmSoPofi5OV"
      },
      "outputs": [],
      "source": [
        "# w/ keyframe\n",
        "def comparevid_kf(path_landmark1: str, path_landmark2: str, keyframes_list: list, destination_path: str, sim_diff_function, extract_function, path_finder,\n",
        "                 norm_value = 180, weight = False, thresh = False, expo = False, MAW_method = 'aj', windows = 30, video = False, kf_img = False, showtext=False):\n",
        "\n",
        "    name_vid1 = path_landmark1.split(slash)[-1]\n",
        "    name_vid2 = path_landmark2.split(slash)[-1]\n",
        "    name_func = sim_diff_function.__name__.split('_')[0]\n",
        "    thresh_name=''\n",
        "    expo_name=''\n",
        "    keyframe_name=''\n",
        "\n",
        "    if weight:\n",
        "        weight_name = 'Weight'\n",
        "    else:\n",
        "        weight_name = 'Unweight'\n",
        "\n",
        "    if weight == 'auto':\n",
        "        weight_name = 'MAW'\n",
        "\n",
        "    if thresh:\n",
        "        thresh_name = '-thresh'\n",
        "\n",
        "    if expo:\n",
        "        expo_name = '-expo'\n",
        "\n",
        "    if MAW_method == 'me':\n",
        "        maw_met_name = '-my-method'\n",
        "    else:\n",
        "        maw_met_name = ''\n",
        "\n",
        "    if len(keyframes_list) > 0:\n",
        "        keyframe_name = '-keyframe'\n",
        "\n",
        "    if weight == 'auto':\n",
        "        weight = 'auto'\n",
        "    elif weight:\n",
        "        weight = import_weight(resource + '{}weight_config_{}_list.csv'.format(slash, name_func), name_vid1.split('_')[0])\n",
        "    else:\n",
        "        weight = import_weight(resource + '{}weight_config_{}_list.csv'.format(slash, name_func), \"default\")\n",
        "\n",
        "    cam_land_vid1, world_land_vid1, all_frame1, = import_file(path_landmark1)\n",
        "    cam_land_vid2, world_land_vid2, all_frame2 = import_file(path_landmark2)\n",
        "\n",
        "    extracted_ladk_vid1 = extract_function(world_land_vid1)\n",
        "    extracted_ladk_vid2 = extract_function(world_land_vid2)\n",
        "\n",
        "    kf_list, stkf_list, path, dist_mat, dist_lndmk_mat, cost_mat, vert_hor, cost, stats = dtw_keyframe(name_vid1, name_vid2,\n",
        "                                                                                   extracted_ladk_vid1, extracted_ladk_vid2,\n",
        "                                                                                   keyframes_list, sim_diff_function,\n",
        "                                                                                   path_finder, weight,\n",
        "                                                                                   norm_value, windows, thresh,\n",
        "                                                                                   MAW_method, expo)\n",
        "    dtw_path=desktop+slash+'dtw'\n",
        "    folder_name = f'dtw_{name_vid1}_{name_vid2}_{sim_diff_function.__name__}'\n",
        "    file_name = f'{weight_name}{maw_met_name}{expo_name}{thresh_name}{keyframe_name}'\n",
        "    if (kf_list != None) and (kf_img):\n",
        "        !mkdir \"{dtw_path}{slash}{folder_name}\"\n",
        "        !mkdir \"{dtw_path}{slash}{folder_name}{slash}{file_name}\"\n",
        "\n",
        "        save_kf_img(name_vid1, name_vid2, all_frame1, all_frame2,\n",
        "                    kf_list, stkf_list, '{}{}dtw_{}_{}_{}{}{}{}{}{}{}'.format(dtw_path, slash, name_vid1, name_vid2, sim_diff_function.__name__, slash,\n",
        "                                                                                weight_name, maw_met_name, expo_name, thresh_name, keyframe_name))\n",
        "\n",
        "    Non_sync_one_to_many_pair  = vert_hor - (np.abs(len(all_frame1) - len(all_frame2)))\n",
        "    Non_sync_one_to_many_pair_percent = ((Non_sync_one_to_many_pair /min(len(all_frame1), len(all_frame2))) *100)/2\n",
        "\n",
        "    if video:\n",
        "        !mkdir \"{dtw_path}{slash}{folder_name}\"\n",
        "        display_img(name_vid1, name_vid2, path, dist_mat, dist_lndmk_mat, weight,\n",
        "                    sim_diff_function, path_finder, all_frame1, all_frame2, cam_land_vid1, cam_land_vid2,\n",
        "                    f'{dtw_path}{slash}{folder_name}{slash}{folder_name+\"-\"+file_name}')\n",
        "\n",
        "    return cost, Non_sync_one_to_many_pair_percent, stats, kf_list, stkf_list, dist_mat"
      ]
    },
    {
      "cell_type": "markdown",
      "metadata": {
        "id": "2L55anCpkqg2"
      },
      "source": [
        "# Summary report"
      ]
    },
    {
      "cell_type": "code",
      "execution_count": 70,
      "metadata": {
        "id": "BbBYMubNo2y9"
      },
      "outputs": [],
      "source": [
        "def warp_sum_cosine_kf(path_vid1: str, path_vid2: str, keyframe_list: list, weight, norm_value: int,\n",
        "                       windows=30, thresh=False, MAW_method='aj', expo=False, video=False, kf_img=False):\n",
        "\n",
        "    # bottom-right to top-left\n",
        "    cost_sim_dp, non_sync_diff_sim_dp, stats_sim_dp, kf, stkf, dist_mat = comparevid_kf(path_landmark1=path_vid1,\n",
        "                                                                                        path_landmark2=path_vid2,\n",
        "                                                                                        keyframes_list=keyframe_list,\n",
        "                                                                                        destination_path=desktop+slash+'dtw',\n",
        "                                                                                        sim_diff_function=cosine_similarity,\n",
        "                                                                                        extract_function=find_limb,\n",
        "                                                                                        path_finder=dp,\n",
        "                                                                                        weight=weight,\n",
        "                                                                                        norm_value=norm_value,\n",
        "                                                                                        windows=windows,\n",
        "                                                                                        showtext=False,\n",
        "                                                                                        thresh=thresh,\n",
        "                                                                                        MAW_method=MAW_method,\n",
        "                                                                                        expo=expo,\n",
        "                                                                                        video=video,\n",
        "                                                                                        kf_img=kf_img)\n",
        "\n",
        "    cost_list = [cost_sim_dp]\n",
        "    frames_list = [stats_sim_dp[3]]\n",
        "    mean_list = [stats_sim_dp[2]]\n",
        "    std_uni_list = [stats_sim_dp[1]]\n",
        "    std_all_list = [stats_sim_dp[0]]\n",
        "    non_sync_list = [non_sync_diff_sim_dp]\n",
        "    method_list = ['cosine similarity (br-tl)']\n",
        "    vid_name_list = ['{}_{}'.format(path_vid1.split(\n",
        "        slash)[-1], path_vid2.split(slash)[-1])]\n",
        "\n",
        "    return cost_list, mean_list, std_all_list, std_uni_list, frames_list, non_sync_list, method_list, vid_name_list, kf, stkf, dist_mat"
      ]
    },
    {
      "cell_type": "code",
      "execution_count": 71,
      "metadata": {
        "id": "7VeO-_kVADq2"
      },
      "outputs": [],
      "source": [
        "def warp_sum_angle_kf(path_vid1: str, path_vid2: str, keyframe_list: list, weight, norm_value: int,\n",
        "                      windows=30, thresh=False,  MAW_method='aj', expo=False, video=False, kf_img=False):\n",
        "\n",
        "    # bottom-right to top-left\n",
        "    cost_sim_dp, non_sync_diff_sim_dp, stats_sim_dp, kf, stkf, dist_mat = comparevid_kf(path_landmark1=path_vid1,\n",
        "                                                                                        path_landmark2=path_vid2,\n",
        "                                                                                        keyframes_list=keyframe_list,\n",
        "                                                                                        destination_path=desktop+slash+'dtw',\n",
        "                                                                                        sim_diff_function=angle_similarity,\n",
        "                                                                                        extract_function=find_angle,\n",
        "                                                                                        path_finder=dp,\n",
        "                                                                                        weight=weight,\n",
        "                                                                                        norm_value=norm_value,\n",
        "                                                                                        windows=windows,\n",
        "                                                                                        showtext=False,\n",
        "                                                                                        thresh=thresh,\n",
        "                                                                                        MAW_method=MAW_method,\n",
        "                                                                                        expo=expo,\n",
        "                                                                                        video=video,\n",
        "                                                                                        kf_img=kf_img)\n",
        "\n",
        "    cost_list = [cost_sim_dp]\n",
        "    frames_list = [stats_sim_dp[3]]\n",
        "    mean_list = [stats_sim_dp[2]]\n",
        "    std_uni_list = [stats_sim_dp[1]]\n",
        "    std_all_list = [stats_sim_dp[0]]\n",
        "    non_sync_list = [non_sync_diff_sim_dp]\n",
        "    method_list = ['angle similarity (br-tl)']\n",
        "    vid_name_list = ['{}_{}'.format(path_vid1.split(\n",
        "        slash)[-1], path_vid2.split(slash)[-1])]\n",
        "\n",
        "    return cost_list, mean_list, std_all_list, std_uni_list, frames_list, non_sync_list, method_list, vid_name_list, kf, stkf, dist_mat"
      ]
    },
    {
      "cell_type": "code",
      "source": [
        "def middle_kf(lis):\n",
        "  if len(lis) == 2:\n",
        "    lis = [lis[1]].copy()\n",
        "  else:\n",
        "    lis = lis[1 : len(lis) - 1].copy()\n",
        "\n",
        "  return lis"
      ],
      "metadata": {
        "id": "sPyLbeRI336w"
      },
      "execution_count": 72,
      "outputs": []
    },
    {
      "cell_type": "code",
      "execution_count": 73,
      "metadata": {
        "id": "6iS_WiKa72uC"
      },
      "outputs": [],
      "source": [
        "def case1_kf(path: str, keyframe_dict: dict, weight, threshold: bool, exponential: bool,\n",
        "             angle_cosine_func, auto_method='aj', window=30, video=True, kf_img=False):\n",
        "\n",
        "    thresh_name = ''\n",
        "    expo_name = ''\n",
        "    keyframe_name = ''\n",
        "\n",
        "    if weight:\n",
        "        weight_name = '-Weight'\n",
        "    else:\n",
        "        weight_name = '-Unweight'\n",
        "\n",
        "    if weight == 'auto':\n",
        "        weight_name = '-MAW'\n",
        "    else:\n",
        "        window = ''\n",
        "\n",
        "    if threshold:\n",
        "        thresh_name = '-thresh'\n",
        "\n",
        "    if exponential:\n",
        "        expo_name = '-expo'\n",
        "\n",
        "    if auto_method == 'me':\n",
        "        maw_met_name = '-my-method'\n",
        "    else:\n",
        "        maw_met_name = ''\n",
        "\n",
        "    if keyframe_dict != []:\n",
        "        keyframe_name = '-keyframe'\n",
        "\n",
        "    func_name = angle_cosine_func.__name__.split('_')[2]\n",
        "\n",
        "    norm_val_list = [180,90,45]\n",
        "    all_cost_list = []\n",
        "    all_mean_list = []\n",
        "    all_std_all_list = []\n",
        "    all_std_uni_list = []\n",
        "    all_frames_list = []\n",
        "    all_non_sync_list = []\n",
        "    all_method_list = []\n",
        "    all_vid_name_list = []\n",
        "    all_norm_list = []\n",
        "    all_case_list = []\n",
        "    all_kf_list = []\n",
        "    all_stkf_list = []\n",
        "    all_kf_score_list = []\n",
        "    all_kf_mean_list = []\n",
        "\n",
        "\n",
        "    for norm in norm_val_list:\n",
        "        for i,j in zip(sorted(glob(path+'{}landmarks{}**{}**_ตรง'.format(slash, slash, slash))),sorted(glob(path+'{}landmarks{}**{}**_เฉียง'.format(slash, slash, slash)))):\n",
        "\n",
        "            vid1_name = i.split(slash)[-1]\n",
        "            vid2_name = j.split(slash)[-1]\n",
        "\n",
        "            if keyframe_dict == []:\n",
        "                kf = []\n",
        "            else:\n",
        "                kf = copy(keyframe_dict[vid1_name])\n",
        "            cost_list, mean_list, std_all_list, std_uni_list, frames_list, non_sync_list, method_list, vid_name_list, kf, stkf, dist_mat = angle_cosine_func(path_vid1=i,\n",
        "                                                                                                                                         path_vid2=j,\n",
        "                                                                                                                                         keyframe_list=kf,\n",
        "                                                                                                                                         weight=weight,\n",
        "                                                                                                                                         norm_value=norm,\n",
        "                                                                                                                                         thresh=threshold,\n",
        "                                                                                                                                         windows=window,\n",
        "                                                                                                                                         expo=exponential,\n",
        "                                                                                                                                         MAW_method=auto_method,\n",
        "                                                                                                                                         video=video,\n",
        "                                                                                                                                         kf_img=kf_img)\n",
        "\n",
        "            all_cost_list.extend(cost_list)\n",
        "            all_mean_list.extend(mean_list)\n",
        "            all_std_all_list.extend(std_all_list)\n",
        "            all_std_uni_list.extend(std_uni_list)\n",
        "            all_frames_list.extend(frames_list)\n",
        "            all_non_sync_list.extend(non_sync_list)\n",
        "            all_method_list.extend(method_list)\n",
        "            all_vid_name_list.extend(vid_name_list)\n",
        "            all_norm_list.extend([norm])\n",
        "            all_case_list.extend(['case1'])\n",
        "            if keyframe_dict != []:\n",
        "                print(kf)\n",
        "                print(stkf)\n",
        "                trim_kf = middle_kf(kf)\n",
        "                trim_stkf = middle_kf(stkf)\n",
        "                all_kf_list.append(trim_kf)\n",
        "                all_stkf_list.append(trim_stkf)\n",
        "                all_kf_score_list.append(dist_mat[np.array(trim_kf), np.array(trim_stkf)])\n",
        "                all_kf_mean_list.append(np.mean(dist_mat[np.array(trim_kf), np.array(trim_stkf)]))\n",
        "                df_case1 = pd.DataFrame({'Video_name': all_vid_name_list,\n",
        "                                        'Similarity_score': all_cost_list,\n",
        "                                        'Mean': all_mean_list,\n",
        "                                        'Std_all.': all_std_all_list,\n",
        "                                        'Std_unique': all_std_uni_list,\n",
        "                                        'All_frames_list': all_frames_list,\n",
        "                                        'Non_sync_percent': all_non_sync_list,\n",
        "                                        'Method': all_method_list,\n",
        "                                        'Normalize_value': all_norm_list,\n",
        "                                        'Case': all_case_list,\n",
        "                                        'Teacher_keyframes': all_kf_list,\n",
        "                                        'Student_keyframes': all_stkf_list,\n",
        "                                        'Keyframe_scores': all_kf_score_list,\n",
        "                                        'Keyframe_mean_score': all_kf_mean_list})\n",
        "            else:\n",
        "                df_case1 = pd.DataFrame({'Video_name': all_vid_name_list,\n",
        "                                        'Similarity_score': all_cost_list,\n",
        "                                        'Mean': all_mean_list,\n",
        "                                        'Std_all.': all_std_all_list,\n",
        "                                        'Std_unique': all_std_uni_list,\n",
        "                                        'All_frames_list': all_frames_list,\n",
        "                                        'Non_sync_percent': all_non_sync_list,\n",
        "                                        'Method': all_method_list,\n",
        "                                        'Normalize_value': all_norm_list,\n",
        "                                        'Case': all_case_list})\n",
        "\n",
        "\n",
        "    weight_name = weight_name.replace('-','')\n",
        "    file_name = '{}{}{}{}{}{}_{}_case1'.format(weight_name, window, maw_met_name, expo_name,\n",
        "                                                   thresh_name, keyframe_name, func_name)\n",
        "\n",
        "    if len(glob(desktop + slash + file_name + '*.csv')) != 0:\n",
        "        num = len(glob(desktop + slash + file_name + '*'))\n",
        "        df_case1.to_csv(desktop + slash + file_name + '({})'.format(num) + '.csv')\n",
        "    else:\n",
        "        df_case1.to_csv(desktop + slash + file_name + '.csv')"
      ]
    },
    {
      "cell_type": "code",
      "execution_count": 74,
      "metadata": {
        "id": "9xMpBtXqDZ9w"
      },
      "outputs": [],
      "source": [
        "def case2_kf(path: str, keyframe_dict: dict, weight, threshold: bool, exponential: bool,\n",
        "               angle_cosine_func, auto_method='aj', window=30, video=True, kf_img=False):\n",
        "\n",
        "    thresh_name = ''\n",
        "    expo_name = ''\n",
        "    keyframe_name = ''\n",
        "\n",
        "    if weight:\n",
        "        weight_name = '-Weight'\n",
        "    else:\n",
        "        weight_name = '-Unweight'\n",
        "\n",
        "    if weight == 'auto':\n",
        "        weight_name = '-MAW'\n",
        "    else:\n",
        "        window = ''\n",
        "\n",
        "    if threshold:\n",
        "        thresh_name = '-thresh'\n",
        "\n",
        "    if exponential:\n",
        "        expo_name = '-expo'\n",
        "\n",
        "    if auto_method == 'me':\n",
        "        maw_met_name = '-my-method'\n",
        "    else:\n",
        "        maw_met_name = ''\n",
        "\n",
        "    if keyframe_dict != []:\n",
        "        keyframe_name = '-keyframe'\n",
        "\n",
        "    func_name = angle_cosine_func.__name__.split('_')[2]\n",
        "\n",
        "    norm_val_list = [180,90,45]\n",
        "    all_cost_list = []\n",
        "    all_mean_list = []\n",
        "    all_std_all_list = []\n",
        "    all_std_uni_list = []\n",
        "    all_frames_list = []\n",
        "    all_non_sync_list = []\n",
        "    all_method_list = []\n",
        "    all_vid_name_list = []\n",
        "    all_norm_list = []\n",
        "    all_case_list = []\n",
        "    all_kf_list = []\n",
        "    all_stkf_list = []\n",
        "    all_kf_score_list = []\n",
        "    all_kf_mean_list = []\n",
        "\n",
        "\n",
        "    all_vid1 = glob(path + '{}landmarks{}**{}**[!0-9]'.format(slash, slash, slash))\n",
        "\n",
        "    for norm in norm_val_list:\n",
        "        for i in all_vid1:\n",
        "\n",
        "            vid1_name = i.split(slash)[-1]\n",
        "\n",
        "            all_vid2 = sorted(glob(path + '{}landmarks{}**{}*{}*[0-9]'.format(slash, slash, vid1_name, slash)))\n",
        "            for j in all_vid2:\n",
        "                vid2_name = j.split(slash)[-1]\n",
        "\n",
        "                print(vid1_name)\n",
        "                print(vid2_name)\n",
        "                print('-----------')\n",
        "                print(i)\n",
        "                print(j)\n",
        "                print('-----------')\n",
        "\n",
        "                if keyframe_dict == []:\n",
        "                    kf = []\n",
        "                else:\n",
        "                    kf = keyframe_dict[vid1_name]\n",
        "\n",
        "                cost_list, mean_list, std_all_list, std_uni_list, frames_list, non_sync_list, method_list, vid_name_list, kf, stkf, dist_mat = angle_cosine_func(path_vid1=i,\n",
        "                                                                                                                                             path_vid2=j,\n",
        "                                                                                                                                             keyframe_list=kf,\n",
        "                                                                                                                                             weight=weight,\n",
        "                                                                                                                                             norm_value=norm,\n",
        "                                                                                                                                             windows=window,\n",
        "                                                                                                                                             thresh=threshold,\n",
        "                                                                                                                                             expo=exponential,\n",
        "                                                                                                                                             MAW_method=auto_method,\n",
        "                                                                                                                                             video=video,\n",
        "                                                                                                                                             kf_img=kf_img)\n",
        "                all_cost_list.extend(cost_list)\n",
        "                all_mean_list.extend(mean_list)\n",
        "                all_std_all_list.extend(std_all_list)\n",
        "                all_std_uni_list.extend(std_uni_list)\n",
        "                all_frames_list.extend(frames_list)\n",
        "                all_non_sync_list.extend(non_sync_list)\n",
        "                all_method_list.extend(method_list)\n",
        "                all_vid_name_list.extend(vid_name_list)\n",
        "                all_norm_list.extend([norm])\n",
        "                all_case_list.extend(['case2'])\n",
        "                if keyframe_dict != []:\n",
        "                    print(kf)\n",
        "                    print(stkf)\n",
        "                    trim_kf = middle_kf(kf)\n",
        "                    trim_stkf = middle_kf(stkf)\n",
        "                    all_kf_list.append(trim_kf)\n",
        "                    all_stkf_list.append(trim_stkf)\n",
        "                    all_kf_score_list.append(dist_mat[np.array(trim_kf), np.array(trim_stkf)])\n",
        "                    all_kf_mean_list.append(np.mean(dist_mat[np.array(trim_kf), np.array(trim_stkf)]))\n",
        "                    df_case2 = pd.DataFrame({'Video_name': all_vid_name_list,\n",
        "                                            'Similarity_score': all_cost_list,\n",
        "                                            'Mean': all_mean_list,\n",
        "                                            'Std_all.': all_std_all_list,\n",
        "                                            'Std_unique': all_std_uni_list,\n",
        "                                            'All_frames_list': all_frames_list,\n",
        "                                            'Non_sync_percent': all_non_sync_list,\n",
        "                                            'Method': all_method_list,\n",
        "                                            'Normalize_value': all_norm_list,\n",
        "                                            'Case': all_case_list,\n",
        "                                                'Teacher_keyframes': all_kf_list,\n",
        "                                                'Student_keyframes': all_stkf_list,\n",
        "                                                'Keyframe_scores': all_kf_score_list,\n",
        "                                                'Keyframe_mean_score': all_kf_mean_list})\n",
        "                else:\n",
        "                    df_case2 = pd.DataFrame({'Video_name': all_vid_name_list,\n",
        "                                            'Similarity_score': all_cost_list,\n",
        "                                            'Mean': all_mean_list,\n",
        "                                            'Std_all.': all_std_all_list,\n",
        "                                            'Std_unique': all_std_uni_list,\n",
        "                                            'All_frames_list': all_frames_list,\n",
        "                                            'Non_sync_percent': all_non_sync_list,\n",
        "                                            'Method': all_method_list,\n",
        "                                            'Normalize_value': all_norm_list,\n",
        "                                            'Case': all_case_list})\n",
        "\n",
        "\n",
        "\n",
        "    weight_name = weight_name.replace('-','')\n",
        "    file_name = '{}{}{}{}{}{}_{}_case2'.format(weight_name, window, maw_met_name, expo_name,\n",
        "                                                     thresh_name, keyframe_name, func_name)\n",
        "\n",
        "    if len(glob(desktop + slash + file_name + '*.csv')) != 0:\n",
        "        num = len(glob(desktop + slash + file_name + '*'))\n",
        "        df_case2.to_csv(desktop + slash + file_name + '({})'.format(num) + '.csv')\n",
        "    else:\n",
        "        df_case2.to_csv(desktop + slash + file_name + '.csv')"
      ]
    },
    {
      "cell_type": "code",
      "execution_count": 75,
      "metadata": {
        "id": "41cR1bVIB-lu"
      },
      "outputs": [],
      "source": [
        "def case3_kf(path: str, keyframe_dict: dict, weight, threshold: bool, exponential: bool,\n",
        "               angle_cosine_func, auto_method='aj', window=30, video=True, kf_img=False):\n",
        "\n",
        "    thresh_name = ''\n",
        "    expo_name = ''\n",
        "    keyframe_name = ''\n",
        "\n",
        "    if weight:\n",
        "        weight_name = '-Weight'\n",
        "    else:\n",
        "        weight_name = '-Unweight'\n",
        "\n",
        "    if weight == 'auto':\n",
        "        weight_name = '-MAW'\n",
        "    else:\n",
        "        window = ''\n",
        "\n",
        "    if threshold:\n",
        "        thresh_name = '-thresh'\n",
        "\n",
        "    if exponential:\n",
        "        expo_name = '-expo'\n",
        "\n",
        "    if auto_method == 'me':\n",
        "        maw_met_name = '-my-method'\n",
        "    else:\n",
        "        maw_met_name = ''\n",
        "\n",
        "    if keyframe_dict != []:\n",
        "        keyframe_name = '-keyframe'\n",
        "\n",
        "    func_name = angle_cosine_func.__name__.split('_')[2]\n",
        "\n",
        "    norm_val_list = [180,90,45] # เฉพาะ 45 องศา\n",
        "    all_cost_list = []\n",
        "    all_mean_list = []\n",
        "    all_std_all_list = []\n",
        "    all_std_uni_list = []\n",
        "    all_frames_list = []\n",
        "    all_non_sync_list = []\n",
        "    all_method_list = []\n",
        "    all_vid_name_list = []\n",
        "    all_norm_list = []\n",
        "    all_case_list = []\n",
        "    all_kf_list = []\n",
        "    all_stkf_list = []\n",
        "    all_kf_score_list = []\n",
        "    all_kf_mean_list = []\n",
        "\n",
        "    all_vid1 = glob(path + '{}landmarks{}**{}**[!0-9]'.format(slash, slash, slash))\n",
        "\n",
        "    for norm in norm_val_list:\n",
        "        for i in all_vid1:\n",
        "\n",
        "            vid1_name = i.split(slash)[-1]\n",
        "\n",
        "            all_vid2 = sorted(glob(path + '{}landmarks{}**[!{}]*{}*[0-9]'.format(slash, slash, vid1_name, slash)))\n",
        "            for j in all_vid2:\n",
        "                vid2_name = j.split(slash)[-1]\n",
        "\n",
        "                print(vid1_name)\n",
        "                print(vid2_name)\n",
        "                print('-----------')\n",
        "                print(i)\n",
        "                print(j)\n",
        "                print('-----------')\n",
        "\n",
        "                if keyframe_dict == []:\n",
        "                    kf = []\n",
        "                else:\n",
        "                    kf = keyframe_dict[vid1_name]\n",
        "\n",
        "                cost_list, mean_list, std_all_list, std_uni_list, frames_list, non_sync_list, method_list, vid_name_list, kf ,stkf, dist_mat = angle_cosine_func(path_vid1=i,\n",
        "                                                                                                                                             path_vid2=j,\n",
        "                                                                                                                                             keyframe_list=kf,\n",
        "                                                                                                                                             weight=weight,\n",
        "                                                                                                                                             norm_value=norm,\n",
        "                                                                                                                                             windows=window,\n",
        "                                                                                                                                             thresh=threshold,\n",
        "                                                                                                                                             expo=exponential,\n",
        "                                                                                                                                             MAW_method=auto_method,\n",
        "                                                                                                                                             video=video,\n",
        "                                                                                                                                             kf_img=kf_img)\n",
        "                all_cost_list.extend(cost_list)\n",
        "                all_mean_list.extend(mean_list)\n",
        "                all_std_all_list.extend(std_all_list)\n",
        "                all_std_uni_list.extend(std_uni_list)\n",
        "                all_frames_list.extend(frames_list)\n",
        "                all_non_sync_list.extend(non_sync_list)\n",
        "                all_method_list.extend(method_list)\n",
        "                all_vid_name_list.extend(vid_name_list)\n",
        "                all_norm_list.extend([norm])\n",
        "                all_case_list.extend(['case3'])\n",
        "                if keyframe_dict != []:\n",
        "                    trim_kf = middle_kf(kf)\n",
        "                    trim_stkf = middle_kf(stkf)\n",
        "                    all_kf_list.append(trim_kf)\n",
        "                    all_stkf_list.append(trim_stkf)\n",
        "                    all_kf_score_list.append(dist_mat[np.array(trim_kf), np.array(trim_stkf)])\n",
        "                    all_kf_mean_list.append(np.mean(dist_mat[np.array(trim_kf), np.array(trim_stkf)]))\n",
        "                    df_case3 = pd.DataFrame({'Video_name': all_vid_name_list,\n",
        "                                                'Similarity_score': all_cost_list,\n",
        "                                                'Mean': all_mean_list,\n",
        "                                                'Std_all.': all_std_all_list,\n",
        "                                                'Std_unique': all_std_uni_list,\n",
        "                                                'All_frames_list': all_frames_list,\n",
        "                                                'Non_sync_percent': all_non_sync_list,\n",
        "                                                'Method': all_method_list,\n",
        "                                                'Normalize_value': all_norm_list,\n",
        "                                                'Case': all_case_list,\n",
        "                                                'Teacher_keyframes': all_kf_list,\n",
        "                                                'Student_keyframes': all_stkf_list,\n",
        "                                                'Keyframe_scores': all_kf_score_list,\n",
        "                                                'Keyframe_mean_score': all_kf_mean_list})\n",
        "                else:\n",
        "                    df_case3 = pd.DataFrame({'Video_name': all_vid_name_list,\n",
        "                                                'Similarity_score': all_cost_list,\n",
        "                                                'Mean': all_mean_list,\n",
        "                                                'Std_all.': all_std_all_list,\n",
        "                                                'Std_unique': all_std_uni_list,\n",
        "                                                'All_frames_list': all_frames_list,\n",
        "                                                'Non_sync_percent': all_non_sync_list,\n",
        "                                                'Method': all_method_list,\n",
        "                                                'Normalize_value': all_norm_list,\n",
        "                                                'Case': all_case_list})\n",
        "\n",
        "\n",
        "\n",
        "    weight_name = weight_name.replace('-','')\n",
        "    file_name = '{}{}{}{}{}{}_{}_case3'.format(weight_name, window, maw_met_name, expo_name,\n",
        "                                                     thresh_name, keyframe_name, func_name)\n",
        "\n",
        "    if len(glob(desktop + slash + file_name + '*.csv')) != 0:\n",
        "        num = len(glob(desktop + slash + file_name + '*'))\n",
        "        df_case3.to_csv(desktop + slash + file_name + '({})'.format(num) + '.csv')\n",
        "    else:\n",
        "        df_case3.to_csv(desktop + slash + file_name + '.csv')"
      ]
    },
    {
      "cell_type": "markdown",
      "metadata": {
        "id": "_AlwRAM06F3P"
      },
      "source": [
        "# Run"
      ]
    },
    {
      "cell_type": "code",
      "source": [
        "thresh_var = False\n",
        "expo_var = True"
      ],
      "metadata": {
        "id": "J_DfAoDX3B7B"
      },
      "execution_count": 76,
      "outputs": []
    },
    {
      "cell_type": "markdown",
      "metadata": {
        "id": "HMC32-8kkt1o"
      },
      "source": [
        "## Unweight cosine"
      ]
    },
    {
      "cell_type": "markdown",
      "metadata": {
        "id": "UNcCXeCclr80"
      },
      "source": [
        "### Case1"
      ]
    },
    {
      "cell_type": "code",
      "source": [
        "!mkdir lastest_result"
      ],
      "metadata": {
        "id": "A7YEOU0p5tor"
      },
      "execution_count": 77,
      "outputs": []
    },
    {
      "cell_type": "code",
      "execution_count": 78,
      "metadata": {
        "id": "52LvwUttn5mQ"
      },
      "outputs": [],
      "source": [
        "%%capture\n",
        "case1_kf(path = diff_angle,\n",
        "         keyframe_dict = [], #diff_angle_dict\n",
        "         weight = False,\n",
        "         threshold = thresh_var,\n",
        "         exponential = expo_var,\n",
        "         angle_cosine_func = warp_sum_cosine_kf,\n",
        "         kf_img = False,\n",
        "         video = False)"
      ]
    },
    {
      "cell_type": "code",
      "source": [
        "!mv '/content/Unweight-expo_cosine_case1.csv' '/content/lastest_result'"
      ],
      "metadata": {
        "id": "vny0MsYIJG-e"
      },
      "execution_count": 79,
      "outputs": []
    },
    {
      "cell_type": "markdown",
      "metadata": {
        "id": "qxRlV66ijBYo"
      },
      "source": [
        "### case 2"
      ]
    },
    {
      "cell_type": "code",
      "execution_count": 80,
      "metadata": {
        "id": "m94OWt0ln8L8"
      },
      "outputs": [],
      "source": [
        "%%capture\n",
        "case2_kf(path = friends_video,\n",
        "           keyframe_dict = [], #friends_video_dict\n",
        "           weight = False,\n",
        "           threshold = thresh_var,\n",
        "           exponential = expo_var,\n",
        "           angle_cosine_func = warp_sum_cosine_kf,\n",
        "           kf_img = False,\n",
        "           video = False)"
      ]
    },
    {
      "cell_type": "code",
      "source": [
        "!mv '/content/Unweight-expo_cosine_case2.csv' '/content/lastest_result'"
      ],
      "metadata": {
        "id": "8eFacR_fAiTO"
      },
      "execution_count": 81,
      "outputs": []
    },
    {
      "cell_type": "markdown",
      "metadata": {
        "id": "fG4mOyErDb9n"
      },
      "source": [
        "### Case 3"
      ]
    },
    {
      "cell_type": "code",
      "execution_count": null,
      "metadata": {
        "id": "JsUxDujvoAjw"
      },
      "outputs": [],
      "source": [
        "%%capture\n",
        "case3_kf(path = friends_video,\n",
        "           keyframe_dict = [],\n",
        "           weight = False,\n",
        "           threshold = thresh_var,\n",
        "           exponential = expo_var,\n",
        "           angle_cosine_func = warp_sum_cosine_kf,\n",
        "           kf_img = False,\n",
        "           video = False)"
      ]
    },
    {
      "cell_type": "code",
      "source": [
        "!mv '/content/Unweight-expo_cosine_case3.csv' '/content/lastest_result'"
      ],
      "metadata": {
        "id": "8cEEAE8SAs1C"
      },
      "execution_count": null,
      "outputs": []
    },
    {
      "cell_type": "markdown",
      "metadata": {
        "id": "2sTmpk-ekyTF"
      },
      "source": [
        "## Unweight angle"
      ]
    },
    {
      "cell_type": "markdown",
      "metadata": {
        "id": "mRJN8AnBAtc3"
      },
      "source": [
        "### case 1"
      ]
    },
    {
      "cell_type": "code",
      "execution_count": null,
      "metadata": {
        "id": "cBqT12cHoCz7"
      },
      "outputs": [],
      "source": [
        "%%capture\n",
        "case1_kf(path = diff_angle,\n",
        "         keyframe_dict = [],\n",
        "         weight = False,\n",
        "         threshold = thresh_var,\n",
        "         exponential = expo_var,\n",
        "         angle_cosine_func = warp_sum_angle_kf,\n",
        "         kf_img = False,\n",
        "         video = False)"
      ]
    },
    {
      "cell_type": "code",
      "source": [
        "!mv '/content/Unweight-expo_angle_case1.csv' '/content/lastest_result'"
      ],
      "metadata": {
        "id": "Mb3s2Hk_A0RH"
      },
      "execution_count": null,
      "outputs": []
    },
    {
      "cell_type": "markdown",
      "metadata": {
        "id": "RTj9SL8IiR6m"
      },
      "source": [
        "### case 2"
      ]
    },
    {
      "cell_type": "code",
      "execution_count": null,
      "metadata": {
        "id": "97BxMnRzoEe-"
      },
      "outputs": [],
      "source": [
        "%%capture\n",
        "case2_kf(path = friends_video,\n",
        "           keyframe_dict = [],\n",
        "           weight = False,\n",
        "           threshold = thresh_var,\n",
        "           exponential = expo_var,\n",
        "           angle_cosine_func = warp_sum_angle_kf,\n",
        "           kf_img = False,\n",
        "           video = False)"
      ]
    },
    {
      "cell_type": "code",
      "source": [
        "!mv '/content/Unweight-expo_angle_case2.csv' '/content/lastest_result'"
      ],
      "metadata": {
        "id": "w5AWF3uJBGgW"
      },
      "execution_count": null,
      "outputs": []
    },
    {
      "cell_type": "markdown",
      "metadata": {
        "id": "kwnBmJqOoyvf"
      },
      "source": [
        "### case 3"
      ]
    },
    {
      "cell_type": "code",
      "execution_count": null,
      "metadata": {
        "id": "omZPpGhJoIlt"
      },
      "outputs": [],
      "source": [
        "%%capture\n",
        "case3_kf(path = friends_video,\n",
        "           keyframe_dict = [],\n",
        "           weight = False,\n",
        "           threshold = thresh_var,\n",
        "           exponential = expo_var,\n",
        "           angle_cosine_func = warp_sum_angle_kf,\n",
        "           kf_img = False,\n",
        "           video = False)"
      ]
    },
    {
      "cell_type": "code",
      "source": [
        "!mv '/content/Unweight-expo_angle_case3.csv' '/content/lastest_result'"
      ],
      "metadata": {
        "id": "74rS-WMGBMFb"
      },
      "execution_count": null,
      "outputs": []
    },
    {
      "cell_type": "markdown",
      "metadata": {
        "id": "IwjyQVBuk2sk"
      },
      "source": [
        "## Weight cosine"
      ]
    },
    {
      "cell_type": "markdown",
      "metadata": {
        "id": "9vmlq235vQ3Y"
      },
      "source": [
        "### case 1"
      ]
    },
    {
      "cell_type": "code",
      "execution_count": null,
      "metadata": {
        "id": "kFk611Zxhkbh"
      },
      "outputs": [],
      "source": [
        "%%capture\n",
        "case1_kf(path = diff_angle,\n",
        "         keyframe_dict = [],\n",
        "         weight = True,\n",
        "         threshold = False,\n",
        "         exponential = True,\n",
        "         angle_cosine_func = warp_sum_cosine_kf,\n",
        "         kf_img = False,\n",
        "         video = False)"
      ]
    },
    {
      "cell_type": "code",
      "source": [
        "!mv '/content/Weight-expo_cosine_case1.csv' '/content/lastest_result'"
      ],
      "metadata": {
        "id": "yUqmK9y8Cj19"
      },
      "execution_count": null,
      "outputs": []
    },
    {
      "cell_type": "markdown",
      "metadata": {
        "id": "mduGgRetvTBQ"
      },
      "source": [
        "### case 2\n"
      ]
    },
    {
      "cell_type": "code",
      "execution_count": null,
      "metadata": {
        "id": "HnpA6KDbhwMm"
      },
      "outputs": [],
      "source": [
        "%%capture\n",
        "case2_kf(path = friends_video,\n",
        "           keyframe_dict = [],\n",
        "           weight = True,\n",
        "           threshold = False,\n",
        "           exponential = False,\n",
        "           angle_cosine_func = warp_sum_cosine_kf,\n",
        "           kf_img = False,\n",
        "           video = False)"
      ]
    },
    {
      "cell_type": "code",
      "source": [
        "!mv '/content/Weight_cosine_case2.csv' '/content/lastest_result'"
      ],
      "metadata": {
        "id": "SEu4uFf4C0nG"
      },
      "execution_count": null,
      "outputs": []
    },
    {
      "cell_type": "markdown",
      "metadata": {
        "id": "y6EVyzGmpGV2"
      },
      "source": [
        "### case 3"
      ]
    },
    {
      "cell_type": "code",
      "execution_count": null,
      "metadata": {
        "id": "mAObLFU8pHk0"
      },
      "outputs": [],
      "source": [
        "%%capture\n",
        "case3_kf(path = friends_video,\n",
        "           keyframe_dict = [],\n",
        "           weight = True,\n",
        "           threshold = False,\n",
        "           exponential = False,\n",
        "           angle_cosine_func = warp_sum_cosine_kf,\n",
        "           kf_img = False,\n",
        "           video = False)"
      ]
    },
    {
      "cell_type": "code",
      "source": [
        "!mv '/content/Weight_cosine_case3.csv' '/content/lastest_result'"
      ],
      "metadata": {
        "id": "jltaLNCOC6Km"
      },
      "execution_count": null,
      "outputs": []
    },
    {
      "cell_type": "markdown",
      "metadata": {
        "id": "LOSqj7HVk6Mu"
      },
      "source": [
        "## Weight angle"
      ]
    },
    {
      "cell_type": "markdown",
      "metadata": {
        "id": "-JyAQGiDvVmw"
      },
      "source": [
        "### case 1"
      ]
    },
    {
      "cell_type": "code",
      "execution_count": null,
      "metadata": {
        "id": "UsNVUB4qwa6Q"
      },
      "outputs": [],
      "source": [
        "%%capture\n",
        "case1_kf(path = diff_angle,\n",
        "         keyframe_dict = [],\n",
        "         weight = True,\n",
        "         threshold = False,\n",
        "         exponential = True,\n",
        "         angle_cosine_func = warp_sum_angle_kf,\n",
        "         kf_img = False,\n",
        "         video = False)"
      ]
    },
    {
      "cell_type": "code",
      "execution_count": null,
      "metadata": {
        "id": "ukZrgMRoYWNL"
      },
      "outputs": [],
      "source": [
        "!mv '/content/Weight-expo_angle_case1.csv' '/content/lastest_result'"
      ]
    },
    {
      "cell_type": "markdown",
      "metadata": {
        "id": "rtdmS8NPvXKi"
      },
      "source": [
        "### case 2"
      ]
    },
    {
      "cell_type": "code",
      "execution_count": null,
      "metadata": {
        "id": "CD3meRCxxRXQ"
      },
      "outputs": [],
      "source": [
        "%%capture\n",
        "case2_kf(path = friends_video,\n",
        "           keyframe_dict = [],\n",
        "           weight = True,\n",
        "           threshold = False,\n",
        "           exponential = False,\n",
        "           angle_cosine_func = warp_sum_angle_kf,\n",
        "           kf_img = False,\n",
        "           video = False)"
      ]
    },
    {
      "cell_type": "code",
      "execution_count": null,
      "metadata": {
        "id": "lGFL6QG2YYXZ"
      },
      "outputs": [],
      "source": [
        "!mv '/content/Weight_angle_case2.csv' '/content/lastest_result'"
      ]
    },
    {
      "cell_type": "markdown",
      "metadata": {
        "id": "YWGWAN3rpiP_"
      },
      "source": [
        "### case 3"
      ]
    },
    {
      "cell_type": "code",
      "execution_count": null,
      "metadata": {
        "id": "TDUOx74opj7I"
      },
      "outputs": [],
      "source": [
        "%%capture\n",
        "case3_kf(path = friends_video,\n",
        "           keyframe_dict = [],\n",
        "           weight = True,\n",
        "           threshold = False,\n",
        "           exponential = False,\n",
        "           angle_cosine_func = warp_sum_angle_kf,\n",
        "           kf_img = False,\n",
        "           video = False)"
      ]
    },
    {
      "cell_type": "code",
      "execution_count": null,
      "metadata": {
        "id": "s7fdJ_Wcpp5n"
      },
      "outputs": [],
      "source": [
        "!mv '/content/Weight_angle_case3.csv' '/content/lastest_result'"
      ]
    },
    {
      "cell_type": "markdown",
      "metadata": {
        "id": "HXWkFk7Sk9CF"
      },
      "source": [
        "## Moving weight cosine"
      ]
    },
    {
      "cell_type": "markdown",
      "metadata": {
        "id": "3TmsOIASx-KJ"
      },
      "source": [
        "### case1"
      ]
    },
    {
      "cell_type": "code",
      "execution_count": null,
      "metadata": {
        "id": "7GlVMvVciCS0"
      },
      "outputs": [],
      "source": [
        "%%capture\n",
        "for w in [30,60,90]:\n",
        "    case1_kf(path = diff_angle,\n",
        "            keyframe_dict = diff_angle_dict,\n",
        "            weight = 'auto',\n",
        "            threshold = False,\n",
        "            exponential = False,\n",
        "            angle_cosine_func = warp_sum_cosine_kf,\n",
        "            auto_method='aj',\n",
        "            window=w,\n",
        "            kf_img = False,\n",
        "            video = False)"
      ]
    },
    {
      "cell_type": "code",
      "execution_count": null,
      "metadata": {
        "id": "xHZgLV9fL5pk"
      },
      "outputs": [],
      "source": [
        "!mv '/content/MAW30-keyframe_cosine_case1.csv' '/content/lastest_result'\n",
        "!mv '/content/MAW60-keyframe_cosine_case1.csv' '/content/lastest_result'\n",
        "!mv '/content/MAW90-keyframe_cosine_case1.csv' '/content/lastest_result'"
      ]
    },
    {
      "cell_type": "markdown",
      "metadata": {
        "id": "dzngLrDpyxtP"
      },
      "source": [
        "### case 2"
      ]
    },
    {
      "cell_type": "code",
      "execution_count": null,
      "metadata": {
        "id": "kOy2r5suyxWA"
      },
      "outputs": [],
      "source": [
        "%%capture\n",
        "for w in [30,60,90]:\n",
        "    case2_kf(path = friends_video,\n",
        "            keyframe_dict = [],\n",
        "            weight = False,\n",
        "            threshold = False,\n",
        "            exponential = False,\n",
        "            angle_cosine_func = warp_sum_cosine_kf,\n",
        "            auto_method='aj',\n",
        "            window=w,\n",
        "            kf_img = False,\n",
        "            video = False)"
      ]
    },
    {
      "cell_type": "code",
      "execution_count": null,
      "metadata": {
        "id": "zVPkbLGXMJfY"
      },
      "outputs": [],
      "source": [
        "!mv '/content/MAW30_cosine_case2.csv' '/content/lastest_result'\n",
        "!mv '/content/MAW60_cosine_case2.csv' '/content/lastest_result'\n",
        "!mv '/content/MAW90_cosine_case2.csv' '/content/lastest_result'"
      ]
    },
    {
      "cell_type": "markdown",
      "metadata": {
        "id": "KckOYt59qYGM"
      },
      "source": [
        "### case 3"
      ]
    },
    {
      "cell_type": "code",
      "execution_count": null,
      "metadata": {
        "id": "ZKWREa_fqZvR"
      },
      "outputs": [],
      "source": [
        "%%capture\n",
        "for w in [30,60,90]:\n",
        "    case3_kf(path = friends_video,\n",
        "            keyframe_dict = [],\n",
        "            weight = 'auto',\n",
        "            threshold = False,\n",
        "            exponential = False,\n",
        "            angle_cosine_func = warp_sum_cosine_kf,\n",
        "            auto_method='aj',\n",
        "            window=w,\n",
        "            kf_img = False,\n",
        "            video = False)"
      ]
    },
    {
      "cell_type": "code",
      "execution_count": null,
      "metadata": {
        "id": "BouUrtOXMMZ1"
      },
      "outputs": [],
      "source": [
        "!mv '/content/MAW30_cosine_case3.csv' '/content/lastest_result'\n",
        "!mv '/content/MAW60_cosine_case3.csv' '/content/lastest_result'\n",
        "!mv '/content/MAW90_cosine_case3.csv' '/content/lastest_result'"
      ]
    },
    {
      "cell_type": "markdown",
      "metadata": {
        "id": "qQI4_iXIlADM"
      },
      "source": [
        "## Moving weight angle"
      ]
    },
    {
      "cell_type": "markdown",
      "metadata": {
        "id": "Xre-AdPhx_d0"
      },
      "source": [
        "### case 1"
      ]
    },
    {
      "cell_type": "code",
      "execution_count": null,
      "metadata": {
        "id": "hI4BVTfMcVqx"
      },
      "outputs": [],
      "source": [
        "%%capture\n",
        "for w in [30,60,90]:\n",
        "    case1_kf(path = diff_angle,\n",
        "            keyframe_dict = diff_angle_dict,\n",
        "            weight = 'auto',\n",
        "            threshold = False,\n",
        "            exponential = False,\n",
        "            angle_cosine_func = warp_sum_angle_kf,\n",
        "            auto_method='aj',\n",
        "            window=w,\n",
        "            kf_img = False,\n",
        "            video = False)"
      ]
    },
    {
      "cell_type": "code",
      "execution_count": null,
      "metadata": {
        "id": "Ejn8n-r6MWG8"
      },
      "outputs": [],
      "source": [
        "!mv '/content/MAW30-keyframe_angle_case1.csv' '/content/lastest_result'\n",
        "!mv '/content/MAW60-keyframe_angle_case1.csv' '/content/lastest_result'\n",
        "!mv '/content/MAW90-keyframe_angle_case1.csv' '/content/lastest_result'"
      ]
    },
    {
      "cell_type": "markdown",
      "metadata": {
        "id": "oe8LkAWgy0Ap"
      },
      "source": [
        "### case 2"
      ]
    },
    {
      "cell_type": "code",
      "execution_count": null,
      "metadata": {
        "id": "GN0BGBBAy1K7"
      },
      "outputs": [],
      "source": [
        "%%capture\n",
        "for w in [30,60,90]:\n",
        "    case2_kf(path = friends_video,\n",
        "            keyframe_dict = [],\n",
        "            weight = False,\n",
        "            threshold = False,\n",
        "            exponential = False,\n",
        "            angle_cosine_func = warp_sum_angle_kf,\n",
        "            auto_method='aj',\n",
        "            window=w,\n",
        "            kf_img = False,\n",
        "            video = False)"
      ]
    },
    {
      "cell_type": "code",
      "execution_count": null,
      "metadata": {
        "id": "B48qsEPeMbku"
      },
      "outputs": [],
      "source": [
        "!mv '/content/MAW30_angle_case2.csv' '/content/lastest_result'\n",
        "!mv '/content/MAW60_angle_case2.csv' '/content/lastest_result'\n",
        "!mv '/content/MAW90_angle_case2.csv' '/content/lastest_result'"
      ]
    },
    {
      "cell_type": "markdown",
      "metadata": {
        "id": "teePRKocqf3l"
      },
      "source": [
        "### case 3"
      ]
    },
    {
      "cell_type": "code",
      "execution_count": null,
      "metadata": {
        "id": "ok1PpFo5qgyw"
      },
      "outputs": [],
      "source": [
        "%%capture\n",
        "for w in [30,60,90]:\n",
        "    case3_kf(path = friends_video,\n",
        "            keyframe_dict = [],\n",
        "            weight = 'auto',\n",
        "            threshold = False,\n",
        "            exponential = False,\n",
        "            angle_cosine_func = warp_sum_angle_kf,\n",
        "            auto_method='aj',\n",
        "            window=w,\n",
        "            kf_img = False,\n",
        "            video = False)"
      ]
    },
    {
      "cell_type": "code",
      "execution_count": null,
      "metadata": {
        "id": "WvWhuFifMeg8"
      },
      "outputs": [],
      "source": [
        "!mv '/content/MAW30_angle_case3.csv' '/content/lastest_result'\n",
        "!mv '/content/MAW60_angle_case3.csv' '/content/lastest_result'\n",
        "!mv '/content/MAW90_angle_case3.csv' '/content/lastest_result'"
      ]
    }
  ],
  "metadata": {
    "colab": {
      "provenance": []
    },
    "kernelspec": {
      "display_name": "Python 3 (ipykernel)",
      "language": "python",
      "name": "python3"
    },
    "language_info": {
      "codemirror_mode": {
        "name": "ipython",
        "version": 3
      },
      "file_extension": ".py",
      "mimetype": "text/x-python",
      "name": "python",
      "nbconvert_exporter": "python",
      "pygments_lexer": "ipython3",
      "version": "3.9.12"
    }
  },
  "nbformat": 4,
  "nbformat_minor": 0
}